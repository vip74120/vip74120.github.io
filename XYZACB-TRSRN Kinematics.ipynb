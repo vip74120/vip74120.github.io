{
 "cells": [
  {
   "cell_type": "markdown",
   "metadata": {},
   "source": [
    "![Titlepic](Images/xyzacb_trsrn_machine.png)"
   ]
  },
  {
   "cell_type": "markdown",
   "metadata": {},
   "source": [
    "# Introduction\n",
    "\n",
    "\n",
    "This paper describes how to derive the kinematic model for a 6-axis machine tool in an XYZABC configuration with Tool side B,C rotation of the spindle and work side A (table) rotation . In this example the C axis is a primary  and the B axis is the secondary rotary axis. The primary being independent of the secondary axis. The secondary axis being the one closest to the tool. The model presented here will be named 'XYZACB-TRSRN'.\n",
    "\n",
    "The method used here will be a step by step approach. Starting with a working kinematic model for a single rotary axis all the required elements will be added to build a complete kinematic model for the machine.\n",
    "\n",
    "The final model includes tool-length compensation, compensation for mechanical offsets between the two rotational axis B and C and compensation for setups where the machine reference point is not located on the rotation-axis of the A rotary table. The nutation angle is adjustable from 0 to 90° as measured from the vertical.  \n",
    "\n",
    "In this document only basic mathematical functions are used so the kinematic models derived can be used directly in the 'userkins.comp' template file provided with the LinuxCNC installation. All calculations can be done whithout the use of any computer algebra systems, however the use of computer assistance like 'sage' will make the process of matrix multiplication much less error prone.\n",
    "\n",
    "Note that there are other and potentially more computationally efficient ways to build custom kinematics using built in libraries like 'posemath'. Posemath provides many functions for efficient matrix manipulation and also offers functions for the use of quaternions. However the use of such a library would require a more indepth understanding of the mathematical theory that is beyond the scope of this presentation. Furthermore importing a library like 'posemath' into the 'userkins.comp' template would require substantially more programming skills than using the method applied in this paper. "
   ]
  },
  {
   "cell_type": "code",
   "execution_count": 1,
   "metadata": {},
   "outputs": [],
   "source": [
    "from IPython.display import display, Image\n",
    "# only used to display equations out of code blocks\n",
    "from IPython.display import Math, display\n",
    "\n",
    "# joint position vector P \n",
    "var('Px','Py','Pz')\n",
    "P_=matrix([[Px],\n",
    "           [Py],\n",
    "           [Pz],\n",
    "           [1]])\n",
    "\n",
    "# cartesian position vector Q\n",
    "var('Qx','Qy','Qz')\n",
    "Q_=matrix([[Qx],\n",
    "           [Qy],\n",
    "           [Qz],\n",
    "           [1]])"
   ]
  },
  {
   "cell_type": "markdown",
   "metadata": {},
   "source": [
    "A custom kinematic model in LinuxCNC is used to calculate cartesian coordinates from given machine joint positions (forward kinematics) and also to calculate the required machine joint positions to reach a given coordinate position (inverse kinematics). In the following description we will use vectors as mathematical representations of the two positions: \n",
    "\n",
    "\n",
    "\\begin{equation}\n",
    "Q ~=~\n",
    "\\left(\\begin{array}{rrrr}\n",
    "  Qx \\\\\n",
    "  Qy \\\\\n",
    "  Qz \\\\\n",
    "  1\n",
    "\\end{array}\\right)\n",
    "~\n",
    "Cartesian~position\n",
    "~~~~~~~~~~~~\n",
    "P ~=~\n",
    "\\left(\\begin{array}{rrrr}\n",
    "  Px \\\\\n",
    "  Py \\\\\n",
    "  Pz \\\\\n",
    "  1\n",
    "\\end{array}\\right)\n",
    "~\n",
    "Joint~position\n",
    "\\end{equation}\n",
    "\n",
    "Note that the fourth row is added to be able to multiply the vectors with a 4x4 transformation matrix. "
   ]
  },
  {
   "cell_type": "markdown",
   "metadata": {},
   "source": [
    "# TCP Kinematic model\n",
    "For the tool to follow a point on the work piece we need a model that calculates where a given position on the work piece moves to when the rotary joints are rotated. In our example configuration the work piece will be mounted on therotary table and it is therefore here where we start to build our forward kinematic model.<br>\n",
    "Note that in matrix multiplication the order is important, that is, $A\\cdot B$ is generally not equal to $B \\cdot A$. \n",
    "\n"
   ]
  },
  {
   "cell_type": "markdown",
   "metadata": {},
   "source": [
    "\n",
    "\n",
    "## Table Rotary\n",
    "### Forward transformation\n",
    "\n",
    "We start with the work side rotation. In this case our forward transformation matrix $^QA_P$ is equal to a rotation around the X-axis:\n",
    "\n",
    "\\begin{equation}\n",
    " ^QA_P=~ R_w \n",
    "\\end{equation}\n",
    "\n"
   ]
  },
  {
   "cell_type": "code",
   "execution_count": 2,
   "metadata": {
    "scrolled": true
   },
   "outputs": [
    {
     "data": {
      "text/latex": [
       "$\\displaystyle R_w =~ \\left(\\begin{array}{rrrr}\n",
       "1 & 0 & 0 & 0 \\\\\n",
       "0 & \\mathit{Cw} & -\\mathit{Sw} & 0 \\\\\n",
       "0 & \\mathit{Sw} & \\mathit{Cw} & 0 \\\\\n",
       "0 & 0 & 0 & 1\n",
       "\\end{array}\\right)$"
      ],
      "text/plain": [
       "<IPython.core.display.Math object>"
      ]
     },
     "metadata": {},
     "output_type": "display_data"
    }
   ],
   "source": [
    "#define rotation matrix for work side rotation (ie the rotary table)\n",
    "var('Cw','Sw')\n",
    "Rw=matrix([[ 1,  0,   0,  0],\n",
    "           [ 0, Cw, -Sw,  0],\n",
    "           [ 0, Sw,  Cw,  0],\n",
    "           [ 0,  0,   0, 1]])\n",
    "\n",
    "display(Math(rf'R_w =~'+latex(Rw)))"
   ]
  },
  {
   "cell_type": "markdown",
   "metadata": {},
   "source": [
    "with $~~Sw = sin(\\theta_w),~~~ Cw = cos(\\theta_w)$\n",
    "and $\\theta_w$ being the angle of rotation of the table rotary"
   ]
  },
  {
   "cell_type": "markdown",
   "metadata": {},
   "source": [
    "To derive the coordinate position $Q(Qx,Qy,Qz)$ we now need to multiply the joint position vector $P(Px,Py,Pz)$ with our forward transformation matrix $^QA_P$. <br>\n",
    "Note that the input values $P$ to our model need to be on the right hand side of the matrix multiplication.\n",
    "\n",
    "$$ Q=~^QA_P \\cdot P $$"
   ]
  },
  {
   "cell_type": "code",
   "execution_count": 3,
   "metadata": {},
   "outputs": [
    {
     "data": {
      "text/latex": [
       "$\\displaystyle Q =~ \\left(\\begin{array}{r}\n",
       "\\mathit{Qx} \\\\\n",
       "\\mathit{Qy} \\\\\n",
       "\\mathit{Qz} \\\\\n",
       "1\n",
       "\\end{array}\\right) =~ \\left(\\begin{array}{rrrr}\n",
       "1 & 0 & 0 & 0 \\\\\n",
       "0 & \\mathit{Cw} & -\\mathit{Sw} & 0 \\\\\n",
       "0 & \\mathit{Sw} & \\mathit{Cw} & 0 \\\\\n",
       "0 & 0 & 0 & 1\n",
       "\\end{array}\\right) \\cdot \\left(\\begin{array}{r}\n",
       "\\mathit{Px} \\\\\n",
       "\\mathit{Py} \\\\\n",
       "\\mathit{Pz} \\\\\n",
       "1\n",
       "\\end{array}\\right) =~ \\left(\\begin{array}{r}\n",
       "\\mathit{Px} \\\\\n",
       "\\mathit{Cw} \\mathit{Py} - \\mathit{Pz} \\mathit{Sw} \\\\\n",
       "\\mathit{Cw} \\mathit{Pz} + \\mathit{Py} \\mathit{Sw} \\\\\n",
       "1\n",
       "\\end{array}\\right)$"
      ],
      "text/plain": [
       "<IPython.core.display.Math object>"
      ]
     },
     "metadata": {},
     "output_type": "display_data"
    }
   ],
   "source": [
    "# calculate forward kinematic\n",
    "Q_out=Rw*P_\n",
    "display(Math(rf'Q =~'+latex(Q_)+rf'=~'+latex(Rw)+rf'\\cdot'+latex(P_)+rf'=~'+latex(Q_out)))"
   ]
  },
  {
   "cell_type": "markdown",
   "metadata": {},
   "source": [
    "---"
   ]
  },
  {
   "cell_type": "markdown",
   "metadata": {},
   "source": [
    "### Inverse transformation\n",
    "\n",
    "To calculate the joint position $P$ from given coordinate positions $Q$ we need to 'unrotate' the rotary table. Mathematically this means we need to transpose the rotation part in our transformation matrix.\n",
    "\n",
    "\\begin{equation}\n",
    " ^PA_Q=~ R_w^T \n",
    "\\end{equation}\n",
    "\n",
    "To derive the joint position $P$ we then multiply the coordinate position vector $Q$ from the right:\n",
    "\n",
    "\\begin{equation}\n",
    " P=~^PA_Q \\cdot Q\n",
    "\\end{equation}"
   ]
  },
  {
   "cell_type": "code",
   "execution_count": 4,
   "metadata": {},
   "outputs": [
    {
     "data": {
      "text/latex": [
       "$\\displaystyle P =~ \\left(\\begin{array}{r}\n",
       "\\mathit{Px} \\\\\n",
       "\\mathit{Py} \\\\\n",
       "\\mathit{Pz} \\\\\n",
       "1\n",
       "\\end{array}\\right) =~ \\left(\\begin{array}{rrrr}\n",
       "1 & 0 & 0 & 0 \\\\\n",
       "0 & \\mathit{Cw} & \\mathit{Sw} & 0 \\\\\n",
       "0 & -\\mathit{Sw} & \\mathit{Cw} & 0 \\\\\n",
       "0 & 0 & 0 & 1\n",
       "\\end{array}\\right) \\cdot \\left(\\begin{array}{r}\n",
       "\\mathit{Qx} \\\\\n",
       "\\mathit{Qy} \\\\\n",
       "\\mathit{Qz} \\\\\n",
       "1\n",
       "\\end{array}\\right) =~ \\left(\\begin{array}{r}\n",
       "\\mathit{Qx} \\\\\n",
       "\\mathit{Cw} \\mathit{Qy} + \\mathit{Qz} \\mathit{Sw} \\\\\n",
       "\\mathit{Cw} \\mathit{Qz} - \\mathit{Qy} \\mathit{Sw} \\\\\n",
       "1\n",
       "\\end{array}\\right)$"
      ],
      "text/plain": [
       "<IPython.core.display.Math object>"
      ]
     },
     "metadata": {},
     "output_type": "display_data"
    }
   ],
   "source": [
    "# calculate inverse kinematic\n",
    "P_out=Rw.transpose()*Q_\n",
    "display(Math(rf'P =~'+latex(P_)+rf'=~'+latex(Rw.transpose())+rf'\\cdot'+latex(Q_)+rf'=~'+latex(P_out)))"
   ]
  },
  {
   "cell_type": "markdown",
   "metadata": {},
   "source": [
    "\n",
    "## Spindle  Primary Rotary \n",
    "### Forward transformation\n",
    "\n",
    "Because the linear (x,y,z)-axis motion or tool-translation $P(Px, Py, Pz)$ happens between the table rotation and the primary spindle rotation we need to insert that tool-translation as a tranformation matrix in between $R_w$ and the $R_{sp}$."
   ]
  },
  {
   "cell_type": "markdown",
   "metadata": {},
   "source": [
    "To add the spindle primary rotation we expand $~^QA_P$ by multiplying first the tool-translation $T_p$ from the right and then the rotation matrix $R_{sp}$ also from the right: \n",
    "\n",
    "\\begin{equation}\n",
    " ^QA_P=~ R_w \\cdot T_p \\cdot R_{sp}\n",
    "\\end{equation}\n",
    "\n",
    "Note how the transformation matrix $~^QA_P$ is constructed from left to right. The first operation is on the left and the last operation is on the right as we work our way from the work side to the spindle side of the kinematic chain."
   ]
  },
  {
   "cell_type": "code",
   "execution_count": 5,
   "metadata": {
    "scrolled": true
   },
   "outputs": [
    {
     "data": {
      "text/latex": [
       "$\\displaystyle T_p =~ \\left(\\begin{array}{rrrr}\n",
       "1 & 0 & 0 & \\mathit{Px} \\\\\n",
       "0 & 1 & 0 & \\mathit{Py} \\\\\n",
       "0 & 0 & 1 & \\mathit{Pz} \\\\\n",
       "0 & 0 & 0 & 1\n",
       "\\end{array}\\right) ~~ R_p =~ \\left(\\begin{array}{rrrr}\n",
       "\\mathit{Cp} & -\\mathit{Sp} & 0 & 0 \\\\\n",
       "\\mathit{Sp} & \\mathit{Cp} & 0 & 0 \\\\\n",
       "0 & 0 & 1 & 0 \\\\\n",
       "0 & 0 & 0 & 1\n",
       "\\end{array}\\right)$"
      ],
      "text/plain": [
       "<IPython.core.display.Math object>"
      ]
     },
     "metadata": {},
     "output_type": "display_data"
    }
   ],
   "source": [
    "# define joint position matrix\n",
    "var('Px','Py','Pz')\n",
    "Tp=matrix([[ 1, 0, 0, Px ],\n",
    "           [ 0, 1, 0, Py],\n",
    "           [ 0, 0, 1, Pz],\n",
    "           [ 0, 0, 0, 1 ]])\n",
    "\n",
    "# define rotation matrix for axis C (ie rotation around z-axis)\n",
    "var('Cp','Sp')\n",
    "Rp=matrix([[ Cp, -Sp,   0, 0],\n",
    "           [ Sp,  Cp,   0, 0],\n",
    "           [ 0 ,  0 ,   1, 0],\n",
    "           [ 0,   0 ,   0, 1]])\n",
    "\n",
    "display(Math(rf'T_p =~'+latex(Tp)+'~~'+rf'R_p =~'+latex(Rp)))"
   ]
  },
  {
   "cell_type": "markdown",
   "metadata": {},
   "source": [
    "with $~~Sp = sin(\\theta_p),~~~ Cp = cos(\\theta_p)$\n",
    "and $\\theta_p$ being the angle of rotation of the primary spindle joint "
   ]
  },
  {
   "cell_type": "code",
   "execution_count": 6,
   "metadata": {
    "scrolled": true
   },
   "outputs": [
    {
     "data": {
      "text/latex": [
       "$\\displaystyle ^QA_P =~~ \\left(\\begin{array}{rrrr}\n",
       "1 & 0 & 0 & 0 \\\\\n",
       "0 & \\mathit{Cw} & -\\mathit{Sw} & 0 \\\\\n",
       "0 & \\mathit{Sw} & \\mathit{Cw} & 0 \\\\\n",
       "0 & 0 & 0 & 1\n",
       "\\end{array}\\right) \\cdot \\left(\\begin{array}{rrrr}\n",
       "1 & 0 & 0 & \\mathit{Px} \\\\\n",
       "0 & 1 & 0 & \\mathit{Py} \\\\\n",
       "0 & 0 & 1 & \\mathit{Pz} \\\\\n",
       "0 & 0 & 0 & 1\n",
       "\\end{array}\\right) \\cdot \\left(\\begin{array}{rrrr}\n",
       "\\mathit{Cp} & -\\mathit{Sp} & 0 & 0 \\\\\n",
       "\\mathit{Sp} & \\mathit{Cp} & 0 & 0 \\\\\n",
       "0 & 0 & 1 & 0 \\\\\n",
       "0 & 0 & 0 & 1\n",
       "\\end{array}\\right)$"
      ],
      "text/plain": [
       "<IPython.core.display.Math object>"
      ]
     },
     "metadata": {},
     "output_type": "display_data"
    },
    {
     "data": {
      "text/latex": [
       "$\\displaystyle ^QA_P =~~ \\left(\\begin{array}{rrrr}\n",
       "\\mathit{Cp} & -\\mathit{Sp} & 0 & \\mathit{Px} \\\\\n",
       "\\mathit{Cw} \\mathit{Sp} & \\mathit{Cp} \\mathit{Cw} & -\\mathit{Sw} & \\mathit{Cw} \\mathit{Py} - \\mathit{Pz} \\mathit{Sw} \\\\\n",
       "\\mathit{Sp} \\mathit{Sw} & \\mathit{Cp} \\mathit{Sw} & \\mathit{Cw} & \\mathit{Cw} \\mathit{Pz} + \\mathit{Py} \\mathit{Sw} \\\\\n",
       "0 & 0 & 0 & 1\n",
       "\\end{array}\\right)$"
      ],
      "text/plain": [
       "<IPython.core.display.Math object>"
      ]
     },
     "metadata": {},
     "output_type": "display_data"
    }
   ],
   "source": [
    "# calculate the forward transformation matrix\n",
    "qAp=Rw*Tp*Rp\n",
    "display(Math(rf'^QA_P =~~'+latex(Rw)+rf'\\cdot'+latex(Tp)+rf'\\cdot'+latex(Rp)))\n",
    "display(Math(rf'^QA_P =~~'+latex(qAp)))"
   ]
  },
  {
   "cell_type": "markdown",
   "metadata": {},
   "source": [
    "Note that the tool-position (ie the vector in the 4th column of our transformation matrix $^QA_P$) does not contain the primary spindle rotation in any form. Only the tool-orientation (ie columns 1,2 and 3) is influenced by the addition of this joint. This may seem wrong but we have to remember that after the primary rotation ($Rp$) we have not yet built any offset (tool-length or pivot-length) into our model (ie there is no translation matrix on the right side of $Rp$). Hence for now a rotation around the spindle primary joint simply means that a tool of length zero (ie a point) rotates around itself and does not change it's position. So in the current form it is really not very interesting to test the effect of the added rotation so we will move on along the kinematic chain and add the geometric offsets ($D_x,D_y$) , the rotation of the secondary sindle joint ($Rs$) and the pivot-lengths of the spindle head ($Ly,Lz$) to arrive at the spindle nose."
   ]
  },
  {
   "cell_type": "markdown",
   "metadata": {},
   "source": [
    "## A closer look at the spindle rotary assembly\n",
    "\n",
    "To get a better understanding of these offsets in the spindle rotary assembly of our example machine we need to have a look at how the primary rotary axis and the secondary rotary axis are arranged in the spindle body. <br>\n",
    "The image below shows our spindle assembly in its home position ($\\theta_p =0$, $\\theta_s=0$). To get a clearer idea of the situation a tool (purple cylinder) is shown protruding from the spindle nose.\n"
   ]
  },
  {
   "cell_type": "code",
   "execution_count": 7,
   "metadata": {},
   "outputs": [
    {
     "data": {
      "image/png": "[encoded data removed]",
      "text/plain": [
       "<IPython.core.display.Image object>"
      ]
     },
     "metadata": {
      "image/png": {
       "height": 300,
       "width": 300
      }
     },
     "output_type": "display_data"
    }
   ],
   "source": [
    "display(Image(filename=\"Images/spindle_head_outside.png\",\n",
    "              height=300, width=300))"
   ]
  },
  {
   "cell_type": "markdown",
   "metadata": {},
   "source": [
    "## Pivot-point and pivot-length of the spindle head\n",
    "Because the rotation axes and offsets in question are all hidden inside the spindle body we simplify the model to the relevant kinematic components. The white cross with the arrow pointing up shows the intersection of the rotary axes (yellow sphere).\n",
    "This point will be refered to as the 'pivot-point' of the spindle rotary assembly.\n",
    "The primary rotary axis (yellow line) extends vertically from the pivot-point in the machine-z direction.\n",
    "The secondary rotary axis (yellow line) extends from the pivot-point towards the rotational axis of the tool (purple cylinder) attaches. Note here that this axis will only intersect with the center of the spindle nose it the nutation angle happens to be 45°. <br>\n",
    "The 'y-pivot-length' is the distance in the y-direction between the pivot-point and the spindle nose and shown in green.\n",
    "The 'z-pivot-length' is the distance in the z-direction between the pivot-point and the spindle nose and shown in blue.\n",
    "Note that in this image there is no geometric offset between the two rotary axes and they intersect at the pivot-point. \n",
    "<br>\n",
    "We define the values for the offsets in the example image as *y-pivot = 50* and *z-pivot = 200*. In our kinematic model this represents the situation where, starting from the spindle nose, we need to travel 200 in the positive z-direction and 50 in the positive y-direction to reach the pivot-point.\n",
    "<br>\n",
    "Note that the direction of travel when defining these offsets is arbitrary so in our case the offset situation in the image could also be defined as -50 in y and -200 in z. However once the definition is made we must keep it throughout the entire process of building the kinematic model."
   ]
  },
  {
   "cell_type": "code",
   "execution_count": 8,
   "metadata": {},
   "outputs": [
    {
     "data": {
      "image/png": "[encoded data removed]",
      "text/plain": [
       "<IPython.core.display.Image object>"
      ]
     },
     "metadata": {
      "image/png": {
       "height": 300,
       "width": 300
      }
     },
     "output_type": "display_data"
    }
   ],
   "source": [
    "display(Image(filename=\"Images/spindle_head_inside.png\",\n",
    "              height=300, width=300))"
   ]
  },
  {
   "cell_type": "markdown",
   "metadata": {},
   "source": [
    "To be able to add these (y,z)-pivot values to our kinematic model we need to create a transformation matrix that has the effect of a translation. \n",
    "Note that the direction chosen for these offsets is important here as our translation is basically a vector and we have chosen that this 'pivot-length' vector points from the spindle nose to the pivot-point. Since we are building the forward kinematic model we are travelling against this vector and thus its components ($L_y,L_z$) need to be entered in the negative."
   ]
  },
  {
   "cell_type": "code",
   "execution_count": 9,
   "metadata": {},
   "outputs": [
    {
     "data": {
      "text/latex": [
       "$\\displaystyle T_l =~ \\left(\\begin{array}{rrrr}\n",
       "1 & 0 & 0 & 0 \\\\\n",
       "0 & 1 & 0 & -\\mathit{Ly} \\\\\n",
       "0 & 0 & 1 & -\\mathit{Lz} \\\\\n",
       "0 & 0 & 0 & 1\n",
       "\\end{array}\\right)$"
      ],
      "text/plain": [
       "<IPython.core.display.Math object>"
      ]
     },
     "metadata": {},
     "output_type": "display_data"
    }
   ],
   "source": [
    "# define translation matrix for the pivot lengths\n",
    "var('Ly','Lz')\n",
    "Tl=matrix([[ 1, 0, 0, 0 ],\n",
    "           [ 0, 1, 0, -Ly],\n",
    "           [ 0, 0, 1, -Lz],\n",
    "           [ 0, 0, 0, 1 ]])\n",
    "display(Math(rf'T_l =~'+latex(Tl)))"
   ]
  },
  {
   "cell_type": "markdown",
   "metadata": {},
   "source": [
    "## Offsets in the spindle rotary assembly\n",
    "The rotational axes of a rotary assembly like the spindle type discussed here will always have an intended or unintented offset from one rotational axis to the other. In our case this is an offset in the x direction (red indicator) and in the y direction (light green indicator).<br>\n",
    "We define the values for the offsets in the example image as *x-offset = -20* and *y-offset = 40*. In our kinematic model this represents the situation where, starting from the rotary A axis, we need to travel 40 in the positive y-direction and 20 in the negative x-direction to reach the pivot-point.\n",
    "\n",
    "Note that the direction of travel when defining these offsets is arbitrary so in our case the offset situation in the image could also be defined as +20 in x and -40 in y. However once the definition is made we must keep it throughout the entire process of building the kinematic model."
   ]
  },
  {
   "cell_type": "code",
   "execution_count": 10,
   "metadata": {},
   "outputs": [
    {
     "data": {
      "image/png": "[encoded data removed]",
      "text/plain": [
       "<IPython.core.display.Image object>"
      ]
     },
     "metadata": {
      "image/png": {
       "height": 300,
       "width": 300
      }
     },
     "output_type": "display_data"
    }
   ],
   "source": [
    "display(Image(filename=\"Images/spindle_head_dxdy.png\",\n",
    "              height=300, width=300))"
   ]
  },
  {
   "cell_type": "markdown",
   "metadata": {},
   "source": [
    "Also note that it might be tempting to simplify things by just adding the *y-offset* (light green) to the *y-pivot* (dark green). However if we consider the situation with a rotation of the secondary axis then it's clear that the two values need to be handled sparately in our kinematic model. Note that for a nuation angle of 90° the two could indeed be added."
   ]
  },
  {
   "cell_type": "code",
   "execution_count": 13,
   "metadata": {},
   "outputs": [
    {
     "data": {
      "image/png": "[encoded data removed]",
      "text/plain": [
       "<IPython.core.display.Image object>"
      ]
     },
     "metadata": {
      "image/png": {
       "height": 300,
       "width": 300
      }
     },
     "output_type": "display_data"
    }
   ],
   "source": [
    "\n",
    "display(Image(filename=\"Images/spindle_head_dxdy_rot.png\",\n",
    "              height=300, width=300))"
   ]
  },
  {
   "cell_type": "markdown",
   "metadata": {},
   "source": [
    "To be able to add these (x,y)-offset values to our kinematic model we need to create a transformation matrix that has the effect of a translation. \n",
    "Note that the direction chosen for these offsets is important here as our translation is basically a vector and we have chosen that this 'offset' vector points from the A rotation axis to the pivot-point. Since we are building the forward kinematic model we are travelling against this vector and thus its components ($D_x,D_y$) need to be entered in the negative."
   ]
  },
  {
   "cell_type": "code",
   "execution_count": 14,
   "metadata": {},
   "outputs": [
    {
     "data": {
      "text/latex": [
       "$\\displaystyle T_d =~ \\left(\\begin{array}{rrrr}\n",
       "1 & 0 & 0 & -\\mathit{Dx} \\\\\n",
       "0 & 1 & 0 & -\\mathit{Dy} \\\\\n",
       "0 & 0 & 1 & 0 \\\\\n",
       "0 & 0 & 0 & 1\n",
       "\\end{array}\\right)$"
      ],
      "text/plain": [
       "<IPython.core.display.Math object>"
      ]
     },
     "metadata": {},
     "output_type": "display_data"
    }
   ],
   "source": [
    "# define translation matrix for the pivot lengths\n",
    "var('Dx','Dy')\n",
    "# offsets between primary and secondary axes\n",
    "Td=matrix([[ 1, 0, 0, -Dx],\n",
    "           [ 0, 1, 0, -Dy],\n",
    "           [ 0, 0, 1, 0],\n",
    "           [ 0, 0, 0, 1 ]])\n",
    "display(Math(rf'T_d =~'+latex(Td)))"
   ]
  },
  {
   "cell_type": "markdown",
   "metadata": {},
   "source": [
    "\n",
    "## Spindle Secondary Rotary\n",
    "### How to derive a rotation matrix for a nutating joint\n",
    "\n",
    "The machine in our example has a 'nutating' secondary rotary joint. Nutating meaning here that the rotational axis is not parallel to any of the axes (x, y or z) of our machine coordinate system and hence we cannot use any of the basic rotation matrices to model it in our kinematic. The basic rotation matrices are only three particular solutions of a general formula to describe rotations around any given vector $V(v_x, v_y, v_z$) in space.\n",
    "In our particular case we will see that a regular (ie orthogonal) rotary assembly corresponds to a nutation angle of 90° and our kinematic model will also cover this particular machine type.<br>\n",
    "To construct the rotation matrix $R_s$ for the slanted sencondary joint of our spindle we will use the ‘Rodrigues' form of the general rotation formula. (Note that there is also an 'Euler-Rodrigues' formula that can be used for the same purpose but uses different parameters.)"
   ]
  },
  {
   "cell_type": "markdown",
   "metadata": {},
   "source": [
    "\\begin{equation}\n",
    "R_s ~=~ I ~+~ sin\\theta \\cdot V + (2sin²{\\theta \\over2}) \\cdot V²\n",
    "\\label{eq:rod_rot}\n",
    "\\end{equation}\n",
    "where $\\theta$ is the angle of positive rotation around a vector $\\vec{v}$ acording to the 'Right-Hand' rule.\n",
    "\n",
    "With:\n",
    "\\begin{equation}\n",
    "I ~=~ \n",
    "\\left(\\begin{array}{rrrr}\n",
    "1 & 0 & 0 \\\\\n",
    "0 & 1 & 0 \\\\\n",
    "0 & 0 & 1 \n",
    "\\end{array}\\right)\n",
    "~~\n",
    "V ~=~\n",
    "\\left(\\begin{array}{rrrr}\n",
    "  0  & -v_z &  v_y \\\\\n",
    " v_z &   0  & -v_x  \\\\\n",
    "-v_y &  v_x  &   0 \n",
    "\\end{array}\\right)\n",
    "\\label{eq:mat_I_V}\n",
    "\\end{equation}\n",
    "\n",
    "For the matrix $V$ we need a unit vector that represents the rotational axis of the nutating joint:\n",
    "\n",
    "$$\\vec{v}=(v_x,v_y,v_z)$$\n",
    "\n",
    "In our case the nutating axis lies in the YZ-plane and has the components:\n",
    "\n",
    "$$v_x=0, ~~~~ v_y = sin\\nu, ~~~~ v_z = cos\\nu$$ \n",
    "\n",
    "where $\\nu$ is the angle of the nutating axis as measured from the vertical.\n",
    "\n",
    "\n",
    "Using the definitions of $I$ and $V$ we can rewrite  $R_s $ as:\n",
    "\n",
    "\\begin{equation}\n",
    "R_s ~=~\n",
    "\\left(\\begin{array}{rrrr}\n",
    "  cos\\theta+v²_x(1-cos\\theta)   &   v_x v_y(1-cos\\theta)-v_z sin\\theta  &  v_x v_z(1-cos\\theta)+v_y sin\\theta \\\\\n",
    "  v_x v_y(1-cos\\theta)+v_z sin\\theta  &   cos\\theta+v²_y(1-cos\\theta)   &  v_y v_z(1-cos\\theta)-v_x sin\\theta \\\\\n",
    "  v_x v_z(1-cos\\theta)-v_y sin\\theta  &   v_y v_z(1-cos\\theta)+v_x sin\\theta   &   cos\\theta+v²_z(1-cos\\theta) \n",
    "\\end{array}\\right)\n",
    "\\end{equation}\n",
    "\n",
    "\n",
    "For simplicity we substitute \n",
    "$$sin\\nu = Sv, ~~~~ cos\\nu = Cv, ~~~~ sin\\theta = Ss, ~~~ cos\\theta = Cs$$\n",
    "\n",
    "using the components of $\\vec{v}$ the rotation matrix of our secondary joint now becomes\n",
    "\n",
    "\\begin{equation}\n",
    "R_s ~=~\n",
    "\\left(\\begin{array}{rrrr}\n",
    "   Cs   &           -CvSs        &        SvSs       \\\\\n",
    "  CvSs  &      Cs + S²v(1-Cs)    &     SvCv(1-Cs)    \\\\\n",
    " -SvSs  &        SvCv(1-Cs)      &   Cs + C²v(1-Cs) \n",
    "\\end{array}\\right)\n",
    "\\end{equation}\n",
    "\n",
    "and by expanding it to a 4x4 matrix we have now the required transformation matrix\n",
    "\n",
    "\\begin{equation}\n",
    "R_s ~=~\n",
    "\\left(\\begin{array}{rrrr}\n",
    "   Cs   &           -CvSs        &        SvSs        &      0     \\\\\n",
    "  CvSs  &      Cs + S²v(1-Cs)    &     SvCv(1-Cs)     &      0     \\\\\n",
    " -SvSs  &        SvCv(1-Cs)      &   Cs + C²v(1-Cs)   &      0     \\\\\n",
    "   0    &             0          &         0          &      1\n",
    "\\end{array}\\right)\n",
    "\\end{equation}\n",
    "\n",
    "\n",
    "To make the matrix multiplications more manageable we substitute \n",
    "\n",
    "\n",
    "$$ Cs + S²v(1-Cs)~=~ r   ~~~~~~~~  Cs + C²v(1-Cs) ~=~ s ~~~~~~~~  SvCv(1-Cs) ~=~ t  $$ \n",
    "\n",
    "and get the transformation matrix in it's final form\n",
    "\n",
    "\\begin{equation}\n",
    "R_s ~=~\n",
    "\\left(\\begin{array}{rrrr}\n",
    "   Cs   &  -CvSs  &   SvSs  &  0     \\\\\n",
    "  CvSs  &    r    &    t    &  0     \\\\\n",
    " -SvSs  &    t    &    s    &  0     \\\\\n",
    "   0    &    0    &    0    &  1\n",
    "\\end{array}\\right)\n",
    "\\end{equation}"
   ]
  },
  {
   "cell_type": "code",
   "execution_count": 15,
   "metadata": {},
   "outputs": [],
   "source": [
    "# define rotation matrix for the secondary spindle joint\n",
    "var('Cs','CvSs','SvSs','r','s','t')\n",
    "Rs=matrix([[ Cs  , -CvSs,  SvSs, 0],\n",
    "           [ CvSs,     r,     t, 0],\n",
    "           [-SvSs,     t,     s, 0],\n",
    "           [    0,     0,     0, 1]])"
   ]
  },
  {
   "cell_type": "markdown",
   "metadata": {},
   "source": [
    "## Tool length offset (TLO)\n",
    "\n",
    "As we could see above in our inspection of the spindle rotary assembly the tool length offset ($Dt$) has the same direction as the z-component of the pivot-offset ($Lz$) that is, a positive $Dt$ value points in the negative machine-z direction.\n",
    "So as a building block in our forward kinematic transformation the value of $Dt$ needs to be in the negative:"
   ]
  },
  {
   "cell_type": "code",
   "execution_count": 16,
   "metadata": {},
   "outputs": [
    {
     "data": {
      "text/latex": [
       "$\\displaystyle T_t =~ \\left(\\begin{array}{rrrr}\n",
       "1 & 0 & 0 & 0 \\\\\n",
       "0 & 1 & 0 & 0 \\\\\n",
       "0 & 0 & 1 & -\\mathit{Dt} \\\\\n",
       "0 & 0 & 0 & 1\n",
       "\\end{array}\\right)$"
      ],
      "text/plain": [
       "<IPython.core.display.Math object>"
      ]
     },
     "metadata": {},
     "output_type": "display_data"
    }
   ],
   "source": [
    "# define translation matrix for the tool length\n",
    "var('Dt')\n",
    "Tt=matrix([[ 1, 0, 0,  0],\n",
    "           [ 0, 1, 0,  0 ],\n",
    "           [ 0, 0, 1, -Dt],\n",
    "           [ 0, 0, 0, 1 ]])\n",
    "display(Math(rf'T_t =~'+latex(Tt)))"
   ]
  },
  {
   "cell_type": "code",
   "execution_count": 17,
   "metadata": {},
   "outputs": [
    {
     "data": {
      "text/latex": [
       "$\\displaystyle T_lt =~ \\left(\\begin{array}{rrrr}\n",
       "1 & 0 & 0 & 0 \\\\\n",
       "0 & 1 & 0 & -\\mathit{Ly} \\\\\n",
       "0 & 0 & 1 & -\\mathit{Lz} \\\\\n",
       "0 & 0 & 0 & 1\n",
       "\\end{array}\\right) \\cdot \\left(\\begin{array}{rrrr}\n",
       "1 & 0 & 0 & 0 \\\\\n",
       "0 & 1 & 0 & 0 \\\\\n",
       "0 & 0 & 1 & -\\mathit{Dt} \\\\\n",
       "0 & 0 & 0 & 1\n",
       "\\end{array}\\right) =~ \\left(\\begin{array}{rrrr}\n",
       "1 & 0 & 0 & 0 \\\\\n",
       "0 & 1 & 0 & -\\mathit{Ly} \\\\\n",
       "0 & 0 & 1 & -\\mathit{Dt} - \\mathit{Lz} \\\\\n",
       "0 & 0 & 0 & 1\n",
       "\\end{array}\\right)$"
      ],
      "text/plain": [
       "<IPython.core.display.Math object>"
      ]
     },
     "metadata": {},
     "output_type": "display_data"
    }
   ],
   "source": [
    "Tz=Tl*Tt\n",
    "display(Math(rf'T_lt =~'+latex(Tl)+rf'\\cdot'+latex(Tt)+rf'=~'+latex(Tz)))"
   ]
  },
  {
   "cell_type": "markdown",
   "metadata": {},
   "source": [
    "\n",
    "## Table and Spindle rotations with offsets\n",
    "Now that we have all the building blocks we can put everything together:\n",
    "\n",
    "$$ ^QA_P = R_w \\cdot T_p \\cdot R_p \\cdot T_d \\cdot R_s \\cdot T_l \\cdot T_t$$"
   ]
  },
  {
   "cell_type": "code",
   "execution_count": 18,
   "metadata": {},
   "outputs": [
    {
     "data": {
      "text/latex": [
       "$\\displaystyle ^Q A_P =~ \\left(\\begin{array}{rrrr}\n",
       "\\mathit{Cp} \\mathit{Cs} - \\mathit{CvSs} \\mathit{Sp} & -\\mathit{Cp} \\mathit{CvSs} - \\mathit{Sp} r & \\mathit{Cp} \\mathit{SvSs} - \\mathit{Sp} t & -{\\left(\\mathit{Cp} \\mathit{SvSs} - \\mathit{Sp} t\\right)} {\\left(\\mathit{Dt} + \\mathit{Lz}\\right)} - \\mathit{Cp} \\mathit{Dx} + {\\left(\\mathit{Cp} \\mathit{CvSs} + \\mathit{Sp} r\\right)} \\mathit{Ly} + \\mathit{Dy} \\mathit{Sp} + \\mathit{Px} \\\\\n",
       "\\mathit{Cp} \\mathit{CvSs} \\mathit{Cw} + \\mathit{Cs} \\mathit{Cw} \\mathit{Sp} + \\mathit{SvSs} \\mathit{Sw} & -\\mathit{CvSs} \\mathit{Cw} \\mathit{Sp} + \\mathit{Cp} \\mathit{Cw} r - \\mathit{Sw} t & \\mathit{Cw} \\mathit{Sp} \\mathit{SvSs} + \\mathit{Cp} \\mathit{Cw} t - \\mathit{Sw} s & -\\mathit{Cp} \\mathit{Cw} \\mathit{Dy} - \\mathit{Cw} \\mathit{Dx} \\mathit{Sp} - {\\left(\\mathit{Cw} \\mathit{Sp} \\mathit{SvSs} + \\mathit{Cp} \\mathit{Cw} t - \\mathit{Sw} s\\right)} {\\left(\\mathit{Dt} + \\mathit{Lz}\\right)} + {\\left(\\mathit{CvSs} \\mathit{Cw} \\mathit{Sp} - \\mathit{Cp} \\mathit{Cw} r + \\mathit{Sw} t\\right)} \\mathit{Ly} + \\mathit{Cw} \\mathit{Py} - \\mathit{Pz} \\mathit{Sw} \\\\\n",
       "\\mathit{Cp} \\mathit{CvSs} \\mathit{Sw} + \\mathit{Cs} \\mathit{Sp} \\mathit{Sw} - \\mathit{Cw} \\mathit{SvSs} & -\\mathit{CvSs} \\mathit{Sp} \\mathit{Sw} + \\mathit{Cp} \\mathit{Sw} r + \\mathit{Cw} t & \\mathit{Sp} \\mathit{SvSs} \\mathit{Sw} + \\mathit{Cp} \\mathit{Sw} t + \\mathit{Cw} s & -\\mathit{Cp} \\mathit{Dy} \\mathit{Sw} - \\mathit{Dx} \\mathit{Sp} \\mathit{Sw} - {\\left(\\mathit{Sp} \\mathit{SvSs} \\mathit{Sw} + \\mathit{Cp} \\mathit{Sw} t + \\mathit{Cw} s\\right)} {\\left(\\mathit{Dt} + \\mathit{Lz}\\right)} + {\\left(\\mathit{CvSs} \\mathit{Sp} \\mathit{Sw} - \\mathit{Cp} \\mathit{Sw} r - \\mathit{Cw} t\\right)} \\mathit{Ly} + \\mathit{Cw} \\mathit{Pz} + \\mathit{Py} \\mathit{Sw} \\\\\n",
       "0 & 0 & 0 & 1\n",
       "\\end{array}\\right)$"
      ],
      "text/plain": [
       "<IPython.core.display.Math object>"
      ]
     },
     "metadata": {},
     "output_type": "display_data"
    }
   ],
   "source": [
    "# calculate the forward transformation matrix\n",
    "# note: the brackets *(Tl*Tt) are only used to get a cosmetically\n",
    "# prettier result since it seems to keep \"(Dt+Lz)\"\n",
    "qAp=Rw*Tp*Rp*Td*Rs*(Tl*Tt)\n",
    "display(Math(rf'^Q A_P =~'+latex(qAp)))\n"
   ]
  },
  {
   "cell_type": "code",
   "execution_count": 19,
   "metadata": {},
   "outputs": [
    {
     "data": {
      "text/latex": [
       "$\\displaystyle \\mathit{Qx} ~=~ -{\\left(\\mathit{Cp} \\mathit{SvSs} - \\mathit{Sp} t\\right)} {\\left(\\mathit{Dt} + \\mathit{Lz}\\right)} - \\mathit{Cp} \\mathit{Dx} + {\\left(\\mathit{Cp} \\mathit{CvSs} + \\mathit{Sp} r\\right)} \\mathit{Ly} + \\mathit{Dy} \\mathit{Sp} + \\mathit{Px}$"
      ],
      "text/plain": [
       "<IPython.core.display.Math object>"
      ]
     },
     "metadata": {},
     "output_type": "display_data"
    },
    {
     "data": {
      "text/latex": [
       "$\\displaystyle \\mathit{Qy} ~=~ -\\mathit{Cp} \\mathit{Cw} \\mathit{Dy} - \\mathit{Cw} \\mathit{Dx} \\mathit{Sp} - {\\left(\\mathit{Cw} \\mathit{Sp} \\mathit{SvSs} + \\mathit{Cp} \\mathit{Cw} t - \\mathit{Sw} s\\right)} {\\left(\\mathit{Dt} + \\mathit{Lz}\\right)} + {\\left(\\mathit{CvSs} \\mathit{Cw} \\mathit{Sp} - \\mathit{Cp} \\mathit{Cw} r + \\mathit{Sw} t\\right)} \\mathit{Ly} + \\mathit{Cw} \\mathit{Py} - \\mathit{Pz} \\mathit{Sw}$"
      ],
      "text/plain": [
       "<IPython.core.display.Math object>"
      ]
     },
     "metadata": {},
     "output_type": "display_data"
    },
    {
     "data": {
      "text/latex": [
       "$\\displaystyle \\mathit{Qz} ~=~ -\\mathit{Cp} \\mathit{Dy} \\mathit{Sw} - \\mathit{Dx} \\mathit{Sp} \\mathit{Sw} - {\\left(\\mathit{Sp} \\mathit{SvSs} \\mathit{Sw} + \\mathit{Cp} \\mathit{Sw} t + \\mathit{Cw} s\\right)} {\\left(\\mathit{Dt} + \\mathit{Lz}\\right)} + {\\left(\\mathit{CvSs} \\mathit{Sp} \\mathit{Sw} - \\mathit{Cp} \\mathit{Sw} r - \\mathit{Cw} t\\right)} \\mathit{Ly} + \\mathit{Cw} \\mathit{Pz} + \\mathit{Py} \\mathit{Sw}$"
      ],
      "text/plain": [
       "<IPython.core.display.Math object>"
      ]
     },
     "metadata": {},
     "output_type": "display_data"
    }
   ],
   "source": [
    "# Extract the tool-position vector Q (FORWARD KINEMATICS) from\n",
    "# the fourth column of the forward transformation matrix\n",
    "Qx=qAp[0][3]\n",
    "Qy=qAp[1][3]\n",
    "Qz=qAp[2][3]\n",
    "\n",
    "display(Math(latex(Q_[0][0]) + rf'~=~'  + latex(Qx)))\n",
    "display(Math(latex(Q_[1][0]) + rf'~=~'  + latex(Qy)))\n",
    "display(Math(latex(Q_[2][0]) + rf'~=~'  + latex(Qz)))"
   ]
  },
  {
   "cell_type": "markdown",
   "metadata": {},
   "source": [
    "So with this as our core forward transformation matrix we can now check the output of this model for a nutation angle $\\nu = 45°$ with the spindle assembly in the home position:\n",
    "\n",
    "$$P(Px,Py,Pz)=(0,0,0)$$\n",
    "\n",
    "$$\\theta_w = \\theta_p = \\theta_s =0 ~~=>~~ (Cw=Cp=Cs=1, ~~Sw=Sp=Ss=0)$$\n",
    "\n",
    "taking our substitution in $R_s$ into account:\n",
    "\n",
    "$$  Cs + S²\\nu(1-Cs)~=~ r   ~~~~~~~~  Cs + C²\\nu(1-Cs) ~=~ s  ~~~~~~~~  S\\nu C\\nu(1-Cs) ~=~ t$$ \n",
    "\n",
    "for our chosen nutation angle of $\\nu = 45°$ this becomes\n",
    "\n",
    "$$ Cs~=~ r   ~~~~~~~~  Cs~=~ s  ~~~~~~~~   S_{\\nu} ~=~ t $$\n",
    "~\n",
    "which for $\\theta_a = 0$ reduces to:\n",
    "\n",
    "$$  r=~ 1   ~~~~~~~~  s~=~ 1  ~~~~~~~~  t~=~ 0 $$ \n",
    "\n",
    "\n",
    "Thus we get the coordinates:\n",
    "$$Qx= -Dx $$\n",
    "$$Qy= -(Dy + Ly) $$\n",
    "$$Qz= -(Dt + Lz) $$\n",
    "\n",
    "\\begin{equation}\n",
    "Q ~=~\n",
    "\\left(\\begin{array}{r}\n",
    "  Qx \\\\\n",
    "  Qy \\\\\n",
    "  Qz \\\\\n",
    "  1\n",
    "\\end{array}\\right)\n",
    "~=~\n",
    "\\left(\\begin{array}{r}\n",
    "  -Dx \\\\\n",
    "  -Dy-Ly \\\\\n",
    "  -Dt-Lz \\\\\n",
    "  1\n",
    "\\end{array}\\right)\n",
    "\\end{equation}"
   ]
  },
  {
   "cell_type": "markdown",
   "metadata": {},
   "source": [
    "Since we started out with all joints in the home position we would expect the resulting coordinate position to be $Q(Qx,Qy,Qz)=(0,0,0)$. Hence we need to compensate for the offsets in our resulting coordinate position by subtracting them from the result of our core transformation matrix. \n",
    "Note subtracting a vector is the same as adding its inverse vector \n",
    "We define the transformation:\n"
   ]
  },
  {
   "cell_type": "code",
   "execution_count": 20,
   "metadata": {},
   "outputs": [
    {
     "data": {
      "text/latex": [
       "$\\displaystyle T_c =~ \\left(\\begin{array}{rrrr}\n",
       "1 & 0 & 0 & \\mathit{Dx} \\\\\n",
       "0 & 1 & 0 & \\mathit{Dy} + \\mathit{Ly} \\\\\n",
       "0 & 0 & 1 & \\mathit{Dt} + \\mathit{Lz} \\\\\n",
       "0 & 0 & 0 & 1\n",
       "\\end{array}\\right)$"
      ],
      "text/plain": [
       "<IPython.core.display.Math object>"
      ]
     },
     "metadata": {},
     "output_type": "display_data"
    }
   ],
   "source": [
    "Tc=matrix([[ 1, 0, 0,  Dx],\n",
    "           [ 0, 1, 0, (Dy+Ly)],\n",
    "           [ 0, 0, 1, (Dt+Lz)],\n",
    "           [ 0, 0, 0, 1 ]])\n",
    "display(Math(rf'T_c =~'+latex(Tc)))"
   ]
  },
  {
   "cell_type": "markdown",
   "metadata": {},
   "source": [
    "Note that this is a translation of the result of our forward transformation matrix $^QA_P$ it needs to be multiplied from the left:\n",
    "\n",
    "$$^QA_P = T_c \\cdot R_w \\cdot T_p \\cdot R_p \\cdot T_d \\cdot R_s \\cdot T_l \\cdot T_t$$"
   ]
  },
  {
   "cell_type": "code",
   "execution_count": 21,
   "metadata": {},
   "outputs": [
    {
     "data": {
      "text/latex": [
       "$\\displaystyle ^Q A_P =~ \\left(\\begin{array}{rrrr}\n",
       "\\mathit{Cp} \\mathit{Cs} - \\mathit{CvSs} \\mathit{Sp} & -\\mathit{Cp} \\mathit{CvSs} - \\mathit{Sp} r & \\mathit{Cp} \\mathit{SvSs} - \\mathit{Sp} t & -{\\left(\\mathit{Cp} \\mathit{SvSs} - \\mathit{Sp} t\\right)} {\\left(\\mathit{Dt} + \\mathit{Lz}\\right)} - \\mathit{Cp} \\mathit{Dx} + {\\left(\\mathit{Cp} \\mathit{CvSs} + \\mathit{Sp} r\\right)} \\mathit{Ly} + \\mathit{Dy} \\mathit{Sp} + \\mathit{Dx} + \\mathit{Px} \\\\\n",
       "\\mathit{Cp} \\mathit{CvSs} \\mathit{Cw} + \\mathit{Cs} \\mathit{Cw} \\mathit{Sp} + \\mathit{SvSs} \\mathit{Sw} & -\\mathit{CvSs} \\mathit{Cw} \\mathit{Sp} + \\mathit{Cp} \\mathit{Cw} r - \\mathit{Sw} t & \\mathit{Cw} \\mathit{Sp} \\mathit{SvSs} + \\mathit{Cp} \\mathit{Cw} t - \\mathit{Sw} s & -\\mathit{Cp} \\mathit{Cw} \\mathit{Dy} - \\mathit{Cw} \\mathit{Dx} \\mathit{Sp} - {\\left(\\mathit{Cw} \\mathit{Sp} \\mathit{SvSs} + \\mathit{Cp} \\mathit{Cw} t - \\mathit{Sw} s\\right)} {\\left(\\mathit{Dt} + \\mathit{Lz}\\right)} + {\\left(\\mathit{CvSs} \\mathit{Cw} \\mathit{Sp} - \\mathit{Cp} \\mathit{Cw} r + \\mathit{Sw} t\\right)} \\mathit{Ly} + \\mathit{Cw} \\mathit{Py} - \\mathit{Pz} \\mathit{Sw} + \\mathit{Dy} + \\mathit{Ly} \\\\\n",
       "\\mathit{Cp} \\mathit{CvSs} \\mathit{Sw} + \\mathit{Cs} \\mathit{Sp} \\mathit{Sw} - \\mathit{Cw} \\mathit{SvSs} & -\\mathit{CvSs} \\mathit{Sp} \\mathit{Sw} + \\mathit{Cp} \\mathit{Sw} r + \\mathit{Cw} t & \\mathit{Sp} \\mathit{SvSs} \\mathit{Sw} + \\mathit{Cp} \\mathit{Sw} t + \\mathit{Cw} s & -\\mathit{Cp} \\mathit{Dy} \\mathit{Sw} - \\mathit{Dx} \\mathit{Sp} \\mathit{Sw} - {\\left(\\mathit{Sp} \\mathit{SvSs} \\mathit{Sw} + \\mathit{Cp} \\mathit{Sw} t + \\mathit{Cw} s\\right)} {\\left(\\mathit{Dt} + \\mathit{Lz}\\right)} + {\\left(\\mathit{CvSs} \\mathit{Sp} \\mathit{Sw} - \\mathit{Cp} \\mathit{Sw} r - \\mathit{Cw} t\\right)} \\mathit{Ly} + \\mathit{Cw} \\mathit{Pz} + \\mathit{Py} \\mathit{Sw} + \\mathit{Dt} + \\mathit{Lz} \\\\\n",
       "0 & 0 & 0 & 1\n",
       "\\end{array}\\right)$"
      ],
      "text/plain": [
       "<IPython.core.display.Math object>"
      ]
     },
     "metadata": {},
     "output_type": "display_data"
    }
   ],
   "source": [
    "# calculate the forward transformation matrix\n",
    "# note: the brackets *(Tl*Tt) are only used to get a cosmetically\n",
    "# prettier result since it seems to keep \"(Dt+Lz)\"\n",
    "qAp=Tc*Rw*Tp*Rp*Td*Rs*(Tl*Tt)\n",
    "display(Math(rf'^Q A_P =~'+latex(qAp)))"
   ]
  },
  {
   "cell_type": "code",
   "execution_count": 22,
   "metadata": {},
   "outputs": [
    {
     "data": {
      "text/latex": [
       "$\\displaystyle \\mathit{Qx} ~=~ -{\\left(\\mathit{Cp} \\mathit{SvSs} - \\mathit{Sp} t\\right)} {\\left(\\mathit{Dt} + \\mathit{Lz}\\right)} - \\mathit{Cp} \\mathit{Dx} + {\\left(\\mathit{Cp} \\mathit{CvSs} + \\mathit{Sp} r\\right)} \\mathit{Ly} + \\mathit{Dy} \\mathit{Sp} + \\mathit{Dx} + \\mathit{Px}$"
      ],
      "text/plain": [
       "<IPython.core.display.Math object>"
      ]
     },
     "metadata": {},
     "output_type": "display_data"
    },
    {
     "data": {
      "text/latex": [
       "$\\displaystyle \\mathit{Qy} ~=~ -\\mathit{Cp} \\mathit{Cw} \\mathit{Dy} - \\mathit{Cw} \\mathit{Dx} \\mathit{Sp} - {\\left(\\mathit{Cw} \\mathit{Sp} \\mathit{SvSs} + \\mathit{Cp} \\mathit{Cw} t - \\mathit{Sw} s\\right)} {\\left(\\mathit{Dt} + \\mathit{Lz}\\right)} + {\\left(\\mathit{CvSs} \\mathit{Cw} \\mathit{Sp} - \\mathit{Cp} \\mathit{Cw} r + \\mathit{Sw} t\\right)} \\mathit{Ly} + \\mathit{Cw} \\mathit{Py} - \\mathit{Pz} \\mathit{Sw} + \\mathit{Dy} + \\mathit{Ly}$"
      ],
      "text/plain": [
       "<IPython.core.display.Math object>"
      ]
     },
     "metadata": {},
     "output_type": "display_data"
    },
    {
     "data": {
      "text/latex": [
       "$\\displaystyle \\mathit{Qz} ~=~ -\\mathit{Cp} \\mathit{Dy} \\mathit{Sw} - \\mathit{Dx} \\mathit{Sp} \\mathit{Sw} - {\\left(\\mathit{Sp} \\mathit{SvSs} \\mathit{Sw} + \\mathit{Cp} \\mathit{Sw} t + \\mathit{Cw} s\\right)} {\\left(\\mathit{Dt} + \\mathit{Lz}\\right)} + {\\left(\\mathit{CvSs} \\mathit{Sp} \\mathit{Sw} - \\mathit{Cp} \\mathit{Sw} r - \\mathit{Cw} t\\right)} \\mathit{Ly} + \\mathit{Cw} \\mathit{Pz} + \\mathit{Py} \\mathit{Sw} + \\mathit{Dt} + \\mathit{Lz}$"
      ],
      "text/plain": [
       "<IPython.core.display.Math object>"
      ]
     },
     "metadata": {},
     "output_type": "display_data"
    }
   ],
   "source": [
    "# Extract the tool-position vector Q (FORWARD KINEMATICS) from\n",
    "# the fourth column of the forward transformation matrix\n",
    "Qx=qAp[0][3]\n",
    "Qy=qAp[1][3]\n",
    "Qz=qAp[2][3]\n",
    "\n",
    "display(Math(latex(Q_[0][0]) + rf'~=~'  + latex(Qx)))\n",
    "display(Math(latex(Q_[1][0]) + rf'~=~'  + latex(Qy)))\n",
    "display(Math(latex(Q_[2][0]) + rf'~=~'  + latex(Qz)))"
   ]
  },
  {
   "cell_type": "markdown",
   "metadata": {},
   "source": [
    "---"
   ]
  },
  {
   "cell_type": "markdown",
   "metadata": {},
   "source": [
    "## Position offset of the rotary table to the machine reference point\n",
    " \n",
    "Up to this point we have assumed that the machine reference point coincides with the rotational axis of our rotary table.\n",
    "However, it is somewhat unlikely that a machines home position is exactly in the rotational axis of the rotary table and this will need to be taken into account in the kinematic model.<br>\n",
    "Let us assume that we have a setup with no TLO ($Dt=0$), no geometric offset ($Dx=Dy=0$), no pivot-length ($Ly=Lz=0$) and no offset of the rotation-axis of the rotary table to the machine reference point.<br>\n",
    "A tool positioned on the rotational axis of the rotary table would have a joint-position of $P(0,0,P_z)$ and that would give the expected resulting coordinate position of $Q(0,0,P_z)$.<br>\n",
    "If we now assume that the rotation-axis of our rotary table is offset from the machine reference point by $(ra_y,ra_z)$ then our joint-position would be equal to $P(0,ra_y,ra_z)$ which would give us a result of $Q(0,ra_y, ra_z)$.<br>\n",
    "So we need to subtract the offset $(ra_y,ra_z)$ from the joint-position $P=(P_x, P_y-ra_y, P_z-ra_z)$ before we input it into our transformation matrix.  In other words we need to translate the joint-position vector in the opposite direction along the offset vector with the components $(0,ra_y,ra_z)$. "
   ]
  },
  {
   "cell_type": "code",
   "execution_count": 23,
   "metadata": {},
   "outputs": [
    {
     "data": {
      "text/latex": [
       "$\\displaystyle Tr =~ \\left(\\begin{array}{rrrr}\n",
       "1 & 0 & 0 & 0 \\\\\n",
       "0 & 1 & 0 & -\\mathit{Dray} \\\\\n",
       "0 & 0 & 1 & -\\mathit{Draz} \\\\\n",
       "0 & 0 & 0 & 1\n",
       "\\end{array}\\right)$"
      ],
      "text/plain": [
       "<IPython.core.display.Math object>"
      ]
     },
     "metadata": {},
     "output_type": "display_data"
    }
   ],
   "source": [
    "var('Dray','Draz')\n",
    "# define offset translation matrix for the rotary c table\n",
    "Tr=matrix([[ 1, 0, 0, 0    ],\n",
    "           [ 0, 1, 0, -Dray],\n",
    "           [ 0, 0, 1, -Draz],\n",
    "           [ 0, 0, 0,    1 ]])\n",
    "display(Math(rf'Tr =~'+latex(Tr)))\n",
    "\n"
   ]
  },
  {
   "cell_type": "markdown",
   "metadata": {},
   "source": [
    "Note that this is a translation $T_r$ of the input $T_p$ of our forward transformation matrix $^QA_P$ so it needs to be multiplied to $T_p$ from the right :"
   ]
  },
  {
   "cell_type": "code",
   "execution_count": 24,
   "metadata": {},
   "outputs": [
    {
     "data": {
      "text/latex": [
       "$\\displaystyle T_p \\cdot T_r =~ \\left(\\begin{array}{rrrr}\n",
       "1 & 0 & 0 & \\mathit{Px} \\\\\n",
       "0 & 1 & 0 & \\mathit{Py} \\\\\n",
       "0 & 0 & 1 & \\mathit{Pz} \\\\\n",
       "0 & 0 & 0 & 1\n",
       "\\end{array}\\right) \\cdot \\left(\\begin{array}{rrrr}\n",
       "1 & 0 & 0 & 0 \\\\\n",
       "0 & 1 & 0 & -\\mathit{Dray} \\\\\n",
       "0 & 0 & 1 & -\\mathit{Draz} \\\\\n",
       "0 & 0 & 0 & 1\n",
       "\\end{array}\\right) =~ \\left(\\begin{array}{rrrr}\n",
       "1 & 0 & 0 & \\mathit{Px} \\\\\n",
       "0 & 1 & 0 & -\\mathit{Dray} + \\mathit{Py} \\\\\n",
       "0 & 0 & 1 & -\\mathit{Draz} + \\mathit{Pz} \\\\\n",
       "0 & 0 & 0 & 1\n",
       "\\end{array}\\right)$"
      ],
      "text/plain": [
       "<IPython.core.display.Math object>"
      ]
     },
     "metadata": {},
     "output_type": "display_data"
    }
   ],
   "source": [
    "Tpr=Tp*Tr\n",
    "display(Math(rf'T_p \\cdot T_r =~'+latex(Tp)+rf'\\cdot'+latex(Tr)+rf'=~'+latex(Tpr)))"
   ]
  },
  {
   "cell_type": "markdown",
   "metadata": {},
   "source": [
    "Thus we get:\n",
    "\n",
    "$$^QA_P = T_c \\cdot R_w \\cdot T_p \\cdot T_r \\cdot R_p \\cdot T_d \\cdot R_s \\cdot T_l \\cdot T_t$$\n",
    "\n"
   ]
  },
  {
   "cell_type": "markdown",
   "metadata": {},
   "source": [
    "However some more consideration is needed for now a joint position of $P(0,ra_y,ra_z)$ will result in a coordinate position of $Q(0,0,0)$ which is of course not the value we can hand back to LinuxCNC because if the rotation axis is offset from machine home position then the coordinate position would need to be $Q(0,ra_y,ra_z)$.<br> \n",
    "So to be consistent we need to add the offset values back to the results of our calculations which we do again by multiplying a vector translation to the left of our forward kinematic:"
   ]
  },
  {
   "cell_type": "code",
   "execution_count": 25,
   "metadata": {},
   "outputs": [
    {
     "data": {
      "text/latex": [
       "$\\displaystyle T._r =~ \\left(\\begin{array}{rrrr}\n",
       "1 & 0 & 0 & 0 \\\\\n",
       "0 & 1 & 0 & \\mathit{Dray} \\\\\n",
       "0 & 0 & 1 & \\mathit{Draz} \\\\\n",
       "0 & 0 & 0 & 1\n",
       "\\end{array}\\right)$"
      ],
      "text/plain": [
       "<IPython.core.display.Math object>"
      ]
     },
     "metadata": {},
     "output_type": "display_data"
    }
   ],
   "source": [
    "Tnr=matrix([[ 1, 0, 0, 0],\n",
    "            [ 0, 1, 0, Dray],\n",
    "            [ 0, 0, 1, Draz],\n",
    "            [ 0, 0, 0,  1  ]])\n",
    "display(Math(rf'T._r =~'+latex(Tnr)))"
   ]
  },
  {
   "cell_type": "markdown",
   "metadata": {},
   "source": [
    "Thus we get our final forward transformation matrix:\n",
    "\n",
    "$$^QA_P = T_{-r} \\cdot T_c \\cdot R_w \\cdot T_p \\cdot T_r \\cdot R_p \\cdot T_d \\cdot R_s \\cdot T_l \\cdot T_t$$\n",
    "\n"
   ]
  },
  {
   "cell_type": "code",
   "execution_count": 26,
   "metadata": {},
   "outputs": [
    {
     "data": {
      "text/latex": [
       "$\\displaystyle ^Q A_P =~ \\left(\\begin{array}{rrrr}\n",
       "\\mathit{Cp} \\mathit{Cs} - \\mathit{CvSs} \\mathit{Sp} & -\\mathit{Cp} \\mathit{CvSs} - \\mathit{Sp} r & \\mathit{Cp} \\mathit{SvSs} - \\mathit{Sp} t & -{\\left(\\mathit{Cp} \\mathit{SvSs} - \\mathit{Sp} t\\right)} {\\left(\\mathit{Dt} + \\mathit{Lz}\\right)} - \\mathit{Cp} \\mathit{Dx} + {\\left(\\mathit{Cp} \\mathit{CvSs} + \\mathit{Sp} r\\right)} \\mathit{Ly} + \\mathit{Dy} \\mathit{Sp} + \\mathit{Dx} + \\mathit{Px} \\\\\n",
       "\\mathit{Cp} \\mathit{CvSs} \\mathit{Cw} + \\mathit{Cs} \\mathit{Cw} \\mathit{Sp} + \\mathit{SvSs} \\mathit{Sw} & -\\mathit{CvSs} \\mathit{Cw} \\mathit{Sp} + \\mathit{Cp} \\mathit{Cw} r - \\mathit{Sw} t & \\mathit{Cw} \\mathit{Sp} \\mathit{SvSs} + \\mathit{Cp} \\mathit{Cw} t - \\mathit{Sw} s & -\\mathit{Cp} \\mathit{Cw} \\mathit{Dy} - \\mathit{Cw} \\mathit{Dx} \\mathit{Sp} - \\mathit{Cw} {\\left(\\mathit{Dray} - \\mathit{Py}\\right)} - {\\left(\\mathit{Cw} \\mathit{Sp} \\mathit{SvSs} + \\mathit{Cp} \\mathit{Cw} t - \\mathit{Sw} s\\right)} {\\left(\\mathit{Dt} + \\mathit{Lz}\\right)} + {\\left(\\mathit{CvSs} \\mathit{Cw} \\mathit{Sp} - \\mathit{Cp} \\mathit{Cw} r + \\mathit{Sw} t\\right)} \\mathit{Ly} + {\\left(\\mathit{Draz} - \\mathit{Pz}\\right)} \\mathit{Sw} + \\mathit{Dray} + \\mathit{Dy} + \\mathit{Ly} \\\\\n",
       "\\mathit{Cp} \\mathit{CvSs} \\mathit{Sw} + \\mathit{Cs} \\mathit{Sp} \\mathit{Sw} - \\mathit{Cw} \\mathit{SvSs} & -\\mathit{CvSs} \\mathit{Sp} \\mathit{Sw} + \\mathit{Cp} \\mathit{Sw} r + \\mathit{Cw} t & \\mathit{Sp} \\mathit{SvSs} \\mathit{Sw} + \\mathit{Cp} \\mathit{Sw} t + \\mathit{Cw} s & -\\mathit{Cp} \\mathit{Dy} \\mathit{Sw} - \\mathit{Dx} \\mathit{Sp} \\mathit{Sw} - \\mathit{Cw} {\\left(\\mathit{Draz} - \\mathit{Pz}\\right)} - {\\left(\\mathit{Sp} \\mathit{SvSs} \\mathit{Sw} + \\mathit{Cp} \\mathit{Sw} t + \\mathit{Cw} s\\right)} {\\left(\\mathit{Dt} + \\mathit{Lz}\\right)} + {\\left(\\mathit{CvSs} \\mathit{Sp} \\mathit{Sw} - \\mathit{Cp} \\mathit{Sw} r - \\mathit{Cw} t\\right)} \\mathit{Ly} - {\\left(\\mathit{Dray} - \\mathit{Py}\\right)} \\mathit{Sw} + \\mathit{Draz} + \\mathit{Dt} + \\mathit{Lz} \\\\\n",
       "0 & 0 & 0 & 1\n",
       "\\end{array}\\right)$"
      ],
      "text/plain": [
       "<IPython.core.display.Math object>"
      ]
     },
     "metadata": {},
     "output_type": "display_data"
    }
   ],
   "source": [
    "# calculate the forward transformation matrix\n",
    "# note: the brackets *(Tl*Tt) are only used to get a cosmetically\n",
    "# prettier result since it seems to keep \"(Dt+Lz)\"\n",
    "# similar for (Tp*Tr)\n",
    "qAp=Tnr*Tc*Rw*(Tp*Tr)*Rp*Td*Rs*(Tl*Tt)\n",
    "display(Math(rf'^Q A_P =~'+latex(qAp)))"
   ]
  },
  {
   "cell_type": "code",
   "execution_count": 27,
   "metadata": {},
   "outputs": [
    {
     "data": {
      "text/latex": [
       "$\\displaystyle \\mathit{Qx} ~=~ -{\\left(\\mathit{Cp} \\mathit{SvSs} - \\mathit{Sp} t\\right)} {\\left(\\mathit{Dt} + \\mathit{Lz}\\right)} - \\mathit{Cp} \\mathit{Dx} + {\\left(\\mathit{Cp} \\mathit{CvSs} + \\mathit{Sp} r\\right)} \\mathit{Ly} + \\mathit{Dy} \\mathit{Sp} + \\mathit{Dx} + \\mathit{Px}$"
      ],
      "text/plain": [
       "<IPython.core.display.Math object>"
      ]
     },
     "metadata": {},
     "output_type": "display_data"
    },
    {
     "data": {
      "text/latex": [
       "$\\displaystyle \\mathit{Qy} ~=~ -\\mathit{Cp} \\mathit{Cw} \\mathit{Dy} - \\mathit{Cw} \\mathit{Dx} \\mathit{Sp} - \\mathit{Cw} {\\left(\\mathit{Dray} - \\mathit{Py}\\right)} - {\\left(\\mathit{Cw} \\mathit{Sp} \\mathit{SvSs} + \\mathit{Cp} \\mathit{Cw} t - \\mathit{Sw} s\\right)} {\\left(\\mathit{Dt} + \\mathit{Lz}\\right)} + {\\left(\\mathit{CvSs} \\mathit{Cw} \\mathit{Sp} - \\mathit{Cp} \\mathit{Cw} r + \\mathit{Sw} t\\right)} \\mathit{Ly} + {\\left(\\mathit{Draz} - \\mathit{Pz}\\right)} \\mathit{Sw} + \\mathit{Dray} + \\mathit{Dy} + \\mathit{Ly}$"
      ],
      "text/plain": [
       "<IPython.core.display.Math object>"
      ]
     },
     "metadata": {},
     "output_type": "display_data"
    },
    {
     "data": {
      "text/latex": [
       "$\\displaystyle \\mathit{Qz} ~=~ -\\mathit{Cp} \\mathit{Dy} \\mathit{Sw} - \\mathit{Dx} \\mathit{Sp} \\mathit{Sw} - \\mathit{Cw} {\\left(\\mathit{Draz} - \\mathit{Pz}\\right)} - {\\left(\\mathit{Sp} \\mathit{SvSs} \\mathit{Sw} + \\mathit{Cp} \\mathit{Sw} t + \\mathit{Cw} s\\right)} {\\left(\\mathit{Dt} + \\mathit{Lz}\\right)} + {\\left(\\mathit{CvSs} \\mathit{Sp} \\mathit{Sw} - \\mathit{Cp} \\mathit{Sw} r - \\mathit{Cw} t\\right)} \\mathit{Ly} - {\\left(\\mathit{Dray} - \\mathit{Py}\\right)} \\mathit{Sw} + \\mathit{Draz} + \\mathit{Dt} + \\mathit{Lz}$"
      ],
      "text/plain": [
       "<IPython.core.display.Math object>"
      ]
     },
     "metadata": {},
     "output_type": "display_data"
    }
   ],
   "source": [
    "# Extract the tool-position vector Q (FORWARD KINEMATICS) from\n",
    "# the fourth column of the forward transformation matrix\n",
    "Qx=qAp[0][3]\n",
    "Qy=qAp[1][3]\n",
    "Qz=qAp[2][3]\n",
    "\n",
    "display(Math(latex(Q_[0][0]) + rf'~=~'  + latex(Qx)))\n",
    "display(Math(latex(Q_[1][0]) + rf'~=~'  + latex(Qy)))\n",
    "display(Math(latex(Q_[2][0]) + rf'~=~'  + latex(Qz)))"
   ]
  },
  {
   "cell_type": "code",
   "execution_count": 28,
   "metadata": {},
   "outputs": [
    {
     "name": "stdout",
     "output_type": "stream",
     "text": [
      "TCP kinematics FORWARD\n",
      "Qx =  -(Cp*SvSs - Sp*t)*(Dt + Lz) - Cp*Dx + (Cp*CvSs + Sp*r)*Ly + Dy*Sp + Dx + Px\n",
      "Qy =  -Cp*Cw*Dy - Cw*Dx*Sp - Cw*(Dray - Py) - (Cw*Sp*SvSs + Cp*Cw*t - Sw*s)*(Dt + Lz) + (CvSs*Cw*Sp - Cp*Cw*r + Sw*t)*Ly + (Draz - Pz)*Sw + Dray + Dy + Ly\n",
      "Qz =  -Cp*Dy*Sw - Dx*Sp*Sw - Cw*(Draz - Pz) - (Sp*SvSs*Sw + Cp*Sw*t + Cw*s)*(Dt + Lz) + (CvSs*Sp*Sw - Cp*Sw*r - Cw*t)*Ly - (Dray - Py)*Sw + Draz + Dt + Lz\n"
     ]
    }
   ],
   "source": [
    "# expressions as used in kinematics component\n",
    "print('TCP kinematics FORWARD')\n",
    "print('Qx = ', Qx)\n",
    "print('Qy = ', Qy)\n",
    "print('Qz = ', Qz)"
   ]
  },
  {
   "cell_type": "markdown",
   "metadata": {},
   "source": [
    "        case 1: // ========================= TCP kinematics FORWARD \n",
    "            // in TCP we use the current positions of the spindle joints\n",
    "              Ss = sin(j[4]*TO_RAD);\n",
    "              Cs = cos(j[4]*TO_RAD);\n",
    "              Sp = sin(j[5]*TO_RAD);\n",
    "              Cp = cos(j[5]*TO_RAD);\n",
    "            CvSs = Cv*Sb;\n",
    "            SvSs = Sv*Sb;\n",
    "               r = Cb + Sv*Sv*(1-Cb);\n",
    "               s = Cb + Cv*Cv*(1-Cb);\n",
    "               t = Sv*Cv*(1-Cb);\n",
    "            // onLy used to be consistent with math in documentation\n",
    "              Px = j[0];\n",
    "              Py = j[1];\n",
    "              Pz = j[2];\n",
    "\n",
    "            pos->tran.x = - (Cp*SvSs - Sp*t)*(Dt + Lz) \n",
    "                          - Cp*Dx \n",
    "                          + (Cp*CvSs + Sp*r)*Ly \n",
    "                          + Dy*Sp \n",
    "                          + Dx \n",
    "                          + Px;\n",
    "\n",
    "            pos->tran.y = - Cp*Cw*Dy \n",
    "                          - Cw*Dx*Sp \n",
    "                          - Cw*(Dray - Py) \n",
    "                          - (Cw*Sp*SvSs + Cp*Cw*t - Sw*s)*(Dt + Lz) \n",
    "                          + (CvSs*Cw*Sp - Cp*Cw*r + Sw*t)*Ly \n",
    "                          + (Draz - Pz)*Sw \n",
    "                          + Dray \n",
    "                          + Dy \n",
    "                          + Ly;\n",
    "\n",
    "            pos->tran.z = - Cp*Dy*Sw \n",
    "                          - Dx*Sp*Sw \n",
    "                          - Cw*(Draz - Pz) \n",
    "                          - (Sp*SvSs*Sw + Cp*Sw*t + Cw*s)*(Dt + Lz) \n",
    "                          + (CvSs*Sp*Sw - Cp*Sw*r - Cw*t)*Ly \n",
    "                          - (Dray - Py)*Sw \n",
    "                          + Draz \n",
    "                          + Dt \n",
    "                          + Lz; \n",
    "\n",
    "            pos->a      = j[3];\n",
    "            pos->b      = j[4];\n",
    "            pos->c      = j[5];\n",
    "\n",
    "            break;"
   ]
  },
  {
   "cell_type": "markdown",
   "metadata": {},
   "source": [
    "Notes:<br>\n",
    "In this kinematic model the offset of the rotational axis of the rotary table is the vector $(0,Dra_y,Dra_z)$ going from the pivot-point of the spindle assembly to the rotary-axis of the table rotary, with the machine in the home position.\n",
    "For this to be correct we need to compensate for any geometric offsets in the YZ plane $(D_y+Ly,L_z)$ of the spindle assembly. In other words if the rotary-axis has the absolute machine coordinates $(0,Rot_y,Rot_z)$ then $$Dra_y = Rot_y - (D_y+L_y)$$ $$Dra_z = Rot_z - Lz$$\n",
    "In the kinematic comp this is handled in the variable declaration(see below).<br>\n",
    "\n",
    "The values for 'Cv', 'Sv', 'Dx', 'Dy', 'Ly', 'Lz', 'Dray', 'Draz' are constants for a given machine (unless the rotary table is removable).<br>\n",
    "\n",
    "The values for 'Cw', 'Sw', 'Cp', 'Sp', 'Cs', 'Ss' are recalculated from the rotary joint positions on each cycle and also stored in the respective variables in the component file. <br>\n",
    "Likewise the values for the substitutions 'r', 's', 't'.\n"
   ]
  },
  {
   "cell_type": "markdown",
   "metadata": {},
   "source": [
    "    // START of custom variable declaration for Forward kinematics\n",
    "\n",
    "    // geometric offsets of the universal spindle head as defined in the ini file\n",
    "    double       Ly = *haldata->y_pivot;\n",
    "    double       Lz = *haldata->z_pivot;\n",
    "    double       Dx = *haldata->x_offset;\n",
    "    double       Dy = *haldata->y_offset;\n",
    "    double     Dray = *haldata->y_rot_axis - (Dy + Ly);\n",
    "    double     Draz = *haldata->z_rot_axis - Lz;\n",
    "    double       tc = *haldata->pre_rot;\n",
    "    double       nu = *haldata->nut_angle; // degrees\n",
    "    double  theta_1 = *haldata->prim_angle; // degrees\n",
    "    double  theta_2 = *haldata->sec_angle; // degrees\n",
    "\n",
    "    // tool-length offset if G43 is used (offset as defined in the tool editor)\n",
    "    double       Dt = *(haldata->tool_offset_z);\n",
    "\n",
    "    // variables used in both, TCP and TOOL kinematics\n",
    "    double       Sw = sin(j[3]*TO_RAD);\n",
    "    double       Cw = cos(j[3]*TO_RAD);\n",
    "    double       Sv = sin(nu*TO_RAD);\n",
    "    double       Cv = cos(nu*TO_RAD);\n",
    "    double      Stc = sin(tc);\n",
    "    double      Ctc = cos(tc);\n",
    "\n",
    "    // in TCP we use the current positions of the spindle joints\n",
    "    // in TOOL we will use the angle values calculated in remap.py\n",
    "    double       Ss = 0;\n",
    "    double       Cs = 0;\n",
    "    double       Sp = 0;\n",
    "    double       Cp = 0;\n",
    "    double     CvSs = 0;\n",
    "    double     SvSs = 0;\n",
    "    double        r = 0;\n",
    "    double        s = 0;\n",
    "    double        t = 0;\n",
    "\n",
    "    // onLy used to be consistent with math in documentation\n",
    "    double       Px = j[0];\n",
    "    double       Py = j[1];\n",
    "    double       Pz = j[2];\n",
    "\n",
    "    // END of custom variable declaration for Forward kinematics"
   ]
  },
  {
   "cell_type": "markdown",
   "metadata": {},
   "source": [
    "---"
   ]
  },
  {
   "cell_type": "markdown",
   "metadata": {},
   "source": [
    "### Inverse transformation\n",
    "\n",
    "To calculate the joint position $P$ from a given coordinate position $Q$ we need to follow the kinematic chain in the opposite direction from the spindle to the work piece. We can invert our forward kinematic transformation and build it backwards, using the inverted rotations and the inverted translations.<br>\n",
    "Note that the input matrix $T_p$ with its translation {$T_p \\cdot T_r$} for the offset of the rotation axis and the output translation $[T_{-r} \\cdot T_c]$ need to be handled with some consideration: \n",
    "\n",
    "$$^QA_P = [T_{-r} \\cdot T_c] \\cdot R_w \\cdot \\{T_p \\cdot T_r\\} \\cdot (R_p \\cdot T_d \\cdot R_s \\cdot T_l \\cdot T_t)$$\n",
    "$$^QA_P = [offset_{fo}] \\cdot R_w \\cdot \\{input+offset_{fi}\\} \\cdot (R_p \\cdot T_d \\cdot R_s \\cdot T_l \\cdot T_t)$$\n",
    "\n",
    "\n",
    "\n",
    "In the inverse transformation the input is $T_q$ and it's 'offset' is the inverse of the 'output offset' of the forward transformation.\n",
    "Basically what we added to the result of the forward transformation needs to be removed from the input to the inverse transformation and vice versa. On the right side we additionally need to rotate the inverted spindle offsets by the rotation of the rotary table:\n",
    "\n",
    "$$^PA_Q = [-offset_{fi}] \\cdot R^T_w \\cdot \\{input-offset_{fo}\\} \\cdot (R_w \\cdot R_p \\cdot T_{-d} \\cdot R_s \\cdot T_{-l} \\cdot T_{-t})$$\n",
    "\n",
    "\n",
    "$$^PA_Q = \\{ T_{-r}\\} \\cdot R^T_w \\cdot T_q \\cdot [T_{r} \\cdot T_{-c}]  \\cdot(R_w \\cdot R_p \\cdot T_{-d} \\cdot R_s \\cdot T_{-l} \\cdot T_{-t})$$\n",
    "\n",
    "Note that the brackets in the above expressions are only used to highlight the different parts of the kinematic model and are not mathematically required. \n",
    "\n",
    "This being the inverse transformation our input matrix has changed to $T_q$:\n",
    "\n"
   ]
  },
  {
   "cell_type": "code",
   "execution_count": 29,
   "metadata": {},
   "outputs": [
    {
     "data": {
      "text/latex": [
       "$\\displaystyle T_q =~ \\left(\\begin{array}{rrrr}\n",
       "1 & 0 & 0 & \\mathit{Qx} \\\\\n",
       "0 & 1 & 0 & \\mathit{Qy} \\\\\n",
       "0 & 0 & 1 & \\mathit{Qz} \\\\\n",
       "0 & 0 & 0 & 1\n",
       "\\end{array}\\right)$"
      ],
      "text/plain": [
       "<IPython.core.display.Math object>"
      ]
     },
     "metadata": {},
     "output_type": "display_data"
    }
   ],
   "source": [
    "# define coordinate position matrix\n",
    "var('Qx','Qy','Qz')\n",
    "Tq=matrix([[ 1, 0, 0, Qx ],\n",
    "           [ 0, 1, 0, Qy],\n",
    "           [ 0, 0, 1, Qz],\n",
    "           [ 0, 0, 0, 1 ]])\n",
    "display(Math(rf'T_q =~'+latex(Tq)))"
   ]
  },
  {
   "cell_type": "code",
   "execution_count": 30,
   "metadata": {},
   "outputs": [
    {
     "data": {
      "text/latex": [
       "$\\displaystyle T._c =~ \\left(\\begin{array}{rrrr}\n",
       "1 & 0 & 0 & -\\mathit{Dx} \\\\\n",
       "0 & 1 & 0 & -\\mathit{Dy} - \\mathit{Ly} \\\\\n",
       "0 & 0 & 1 & -\\mathit{Dt} - \\mathit{Lz} \\\\\n",
       "0 & 0 & 0 & 1\n",
       "\\end{array}\\right)$"
      ],
      "text/plain": [
       "<IPython.core.display.Math object>"
      ]
     },
     "metadata": {},
     "output_type": "display_data"
    },
    {
     "data": {
      "text/latex": [
       "$\\displaystyle T._t =~ \\left(\\begin{array}{rrrr}\n",
       "1 & 0 & 0 & 0 \\\\\n",
       "0 & 1 & 0 & 0 \\\\\n",
       "0 & 0 & 1 & \\mathit{Dt} \\\\\n",
       "0 & 0 & 0 & 1\n",
       "\\end{array}\\right)$"
      ],
      "text/plain": [
       "<IPython.core.display.Math object>"
      ]
     },
     "metadata": {},
     "output_type": "display_data"
    },
    {
     "data": {
      "text/latex": [
       "$\\displaystyle T._d =~ \\left(\\begin{array}{rrrr}\n",
       "1 & 0 & 0 & \\mathit{Dx} \\\\\n",
       "0 & 1 & 0 & \\mathit{Dy} \\\\\n",
       "0 & 0 & 1 & 0 \\\\\n",
       "0 & 0 & 0 & 1\n",
       "\\end{array}\\right)$"
      ],
      "text/plain": [
       "<IPython.core.display.Math object>"
      ]
     },
     "metadata": {},
     "output_type": "display_data"
    },
    {
     "data": {
      "text/latex": [
       "$\\displaystyle T._l =~ \\left(\\begin{array}{rrrr}\n",
       "1 & 0 & 0 & 0 \\\\\n",
       "0 & 1 & 0 & \\mathit{Ly} \\\\\n",
       "0 & 0 & 1 & \\mathit{Lz} \\\\\n",
       "0 & 0 & 0 & 1\n",
       "\\end{array}\\right)$"
      ],
      "text/plain": [
       "<IPython.core.display.Math object>"
      ]
     },
     "metadata": {},
     "output_type": "display_data"
    }
   ],
   "source": [
    "#define inverse translation matrices\n",
    "Tnc=matrix([[ 1, 0, 0, -Dx],\n",
    "            [ 0, 1, 0, -(Ly+Dy)],\n",
    "            [ 0, 0, 1, -(Dt+Lz)],\n",
    "            [ 0, 0, 0, 1 ]])\n",
    "display(Math(rf'T._c =~'+latex(Tnc)))\n",
    "\n",
    "Tnt=matrix([[ 1, 0, 0, 0],\n",
    "            [ 0, 1, 0, 0 ],\n",
    "            [ 0, 0, 1, Dt],\n",
    "            [ 0, 0, 0, 1 ]])\n",
    "display(Math(rf'T._t =~'+latex(Tnt)))\n",
    "Tnd=matrix([[ 1, 0, 0, Dx],\n",
    "            [ 0, 1, 0, Dy ],\n",
    "            [ 0, 0, 1,  0],\n",
    "            [ 0, 0, 0, 1 ]])\n",
    "display(Math(rf'T._d =~'+latex(Tnd)))\n",
    "Tnl=matrix([[ 1, 0, 0, 0 ],\n",
    "            [ 0, 1, 0, Ly],\n",
    "            [ 0, 0, 1, Lz],\n",
    "            [ 0, 0, 0, 1 ]])\n",
    "display(Math(rf'T._l =~'+latex(Tnl)))"
   ]
  },
  {
   "cell_type": "code",
   "execution_count": 31,
   "metadata": {},
   "outputs": [],
   "source": [
    "#qAp=Tnr*Tc*Rw*(Tp*Tr)*Rp*Td*Rs*(Tl*Tt)\n",
    "pAq=Tnr*Rw.transpose()*(Tq*Tr*Tnc)*Rw*Rp*Tnd*Rs*(Tnl*Tnt)"
   ]
  },
  {
   "cell_type": "code",
   "execution_count": 32,
   "metadata": {},
   "outputs": [
    {
     "data": {
      "text/latex": [
       "$\\displaystyle \\left(\\begin{array}{rrrr}\n",
       "1 & 0 & 0 & \\mathit{Qx} \\\\\n",
       "0 & 1 & 0 & \\mathit{Qy} \\\\\n",
       "0 & 0 & 1 & \\mathit{Qz} \\\\\n",
       "0 & 0 & 0 & 1\n",
       "\\end{array}\\right) \\cdot \\left(\\begin{array}{rrrr}\n",
       "\\mathit{Cp} & \\mathit{Sp} & 0 & 0 \\\\\n",
       "-\\mathit{Sp} & \\mathit{Cp} & 0 & 0 \\\\\n",
       "0 & 0 & 1 & 0 \\\\\n",
       "0 & 0 & 0 & 1\n",
       "\\end{array}\\right) \\cdot \\left(\\begin{array}{rrrr}\n",
       "\\mathit{Cs} & \\mathit{CvSs} & -\\mathit{SvSs} & 0 \\\\\n",
       "-\\mathit{CvSs} & r & t & 0 \\\\\n",
       "\\mathit{SvSs} & t & s & 0 \\\\\n",
       "0 & 0 & 0 & 1\n",
       "\\end{array}\\right) \\cdot \\left(\\begin{array}{rrrr}\n",
       "1 & 0 & 0 & 0 \\\\\n",
       "0 & 1 & 0 & \\mathit{Ly} \\\\\n",
       "0 & 0 & 1 & \\mathit{Lz} \\\\\n",
       "0 & 0 & 0 & 1\n",
       "\\end{array}\\right)$"
      ],
      "text/plain": [
       "<IPython.core.display.Math object>"
      ]
     },
     "metadata": {},
     "output_type": "display_data"
    },
    {
     "data": {
      "text/latex": [
       "$\\displaystyle ^PA_Q=~ \\left(\\begin{array}{rrrr}\n",
       "\\mathit{Cp} \\mathit{Cs} - \\mathit{CvSs} \\mathit{Sp} & -\\mathit{Cp} \\mathit{CvSs} - \\mathit{Sp} r & \\mathit{Cp} \\mathit{SvSs} - \\mathit{Sp} t & {\\left(\\mathit{Cp} \\mathit{SvSs} - \\mathit{Sp} t\\right)} {\\left(\\mathit{Dt} + \\mathit{Lz}\\right)} + \\mathit{Cp} \\mathit{Dx} - {\\left(\\mathit{Cp} \\mathit{CvSs} + \\mathit{Sp} r\\right)} \\mathit{Ly} - \\mathit{Dy} \\mathit{Sp} - \\mathit{Dx} + \\mathit{Qx} \\\\\n",
       "{\\left(\\mathit{Cw}^{2} + \\mathit{Sw}^{2}\\right)} \\mathit{Cp} \\mathit{CvSs} + {\\left(\\mathit{Cw}^{2} + \\mathit{Sw}^{2}\\right)} \\mathit{Cs} \\mathit{Sp} & -{\\left(\\mathit{Cw}^{2} + \\mathit{Sw}^{2}\\right)} \\mathit{CvSs} \\mathit{Sp} + {\\left(\\mathit{Cw}^{2} + \\mathit{Sw}^{2}\\right)} \\mathit{Cp} r & {\\left(\\mathit{Cw}^{2} + \\mathit{Sw}^{2}\\right)} \\mathit{Sp} \\mathit{SvSs} + {\\left(\\mathit{Cw}^{2} + \\mathit{Sw}^{2}\\right)} \\mathit{Cp} t & {\\left(\\mathit{Cw}^{2} + \\mathit{Sw}^{2}\\right)} \\mathit{Cp} \\mathit{Dy} + {\\left(\\mathit{Cw}^{2} + \\mathit{Sw}^{2}\\right)} \\mathit{Dx} \\mathit{Sp} - \\mathit{Cw} {\\left(\\mathit{Dray} + \\mathit{Dy} + \\mathit{Ly} - \\mathit{Qy}\\right)} + {\\left({\\left(\\mathit{Cw}^{2} + \\mathit{Sw}^{2}\\right)} \\mathit{Sp} \\mathit{SvSs} + {\\left(\\mathit{Cw}^{2} + \\mathit{Sw}^{2}\\right)} \\mathit{Cp} t\\right)} {\\left(\\mathit{Dt} + \\mathit{Lz}\\right)} - {\\left({\\left(\\mathit{Cw}^{2} + \\mathit{Sw}^{2}\\right)} \\mathit{CvSs} \\mathit{Sp} - {\\left(\\mathit{Cw}^{2} + \\mathit{Sw}^{2}\\right)} \\mathit{Cp} r\\right)} \\mathit{Ly} - {\\left(\\mathit{Draz} + \\mathit{Dt} + \\mathit{Lz} - \\mathit{Qz}\\right)} \\mathit{Sw} + \\mathit{Dray} \\\\\n",
       "-{\\left(\\mathit{Cw}^{2} + \\mathit{Sw}^{2}\\right)} \\mathit{SvSs} & {\\left(\\mathit{Cw}^{2} + \\mathit{Sw}^{2}\\right)} t & {\\left(\\mathit{Cw}^{2} + \\mathit{Sw}^{2}\\right)} s & {\\left(\\mathit{Cw}^{2} + \\mathit{Sw}^{2}\\right)} {\\left(\\mathit{Dt} + \\mathit{Lz}\\right)} s + {\\left(\\mathit{Cw}^{2} + \\mathit{Sw}^{2}\\right)} \\mathit{Ly} t - \\mathit{Cw} {\\left(\\mathit{Draz} + \\mathit{Dt} + \\mathit{Lz} - \\mathit{Qz}\\right)} + {\\left(\\mathit{Dray} + \\mathit{Dy} + \\mathit{Ly} - \\mathit{Qy}\\right)} \\mathit{Sw} + \\mathit{Draz} \\\\\n",
       "0 & 0 & 0 & 1\n",
       "\\end{array}\\right)$"
      ],
      "text/plain": [
       "<IPython.core.display.Math object>"
      ]
     },
     "metadata": {},
     "output_type": "display_data"
    }
   ],
   "source": [
    "display(Math(latex(Tq)+rf'\\cdot'+latex(Rp.transpose())+rf'\\cdot'+latex(Rs.transpose())+rf'\\cdot'+latex(Tnl)))\n",
    "display(Math(rf'^PA_Q=~'+latex(pAq)))"
   ]
  },
  {
   "cell_type": "code",
   "execution_count": 33,
   "metadata": {},
   "outputs": [
    {
     "data": {
      "text/latex": [
       "$\\displaystyle \\mathit{Px} ~=~ {\\left(\\mathit{Cp} \\mathit{SvSs} - \\mathit{Sp} t\\right)} {\\left(\\mathit{Dt} + \\mathit{Lz}\\right)} + \\mathit{Cp} \\mathit{Dx} - {\\left(\\mathit{Cp} \\mathit{CvSs} + \\mathit{Sp} r\\right)} \\mathit{Ly} - \\mathit{Dy} \\mathit{Sp} - \\mathit{Dx} + \\mathit{Qx}$"
      ],
      "text/plain": [
       "<IPython.core.display.Math object>"
      ]
     },
     "metadata": {},
     "output_type": "display_data"
    },
    {
     "data": {
      "text/latex": [
       "$\\displaystyle \\mathit{Py} ~=~ {\\left(\\mathit{Cw}^{2} + \\mathit{Sw}^{2}\\right)} \\mathit{Cp} \\mathit{Dy} + {\\left(\\mathit{Cw}^{2} + \\mathit{Sw}^{2}\\right)} \\mathit{Dx} \\mathit{Sp} - \\mathit{Cw} {\\left(\\mathit{Dray} + \\mathit{Dy} + \\mathit{Ly} - \\mathit{Qy}\\right)} + {\\left({\\left(\\mathit{Cw}^{2} + \\mathit{Sw}^{2}\\right)} \\mathit{Sp} \\mathit{SvSs} + {\\left(\\mathit{Cw}^{2} + \\mathit{Sw}^{2}\\right)} \\mathit{Cp} t\\right)} {\\left(\\mathit{Dt} + \\mathit{Lz}\\right)} - {\\left({\\left(\\mathit{Cw}^{2} + \\mathit{Sw}^{2}\\right)} \\mathit{CvSs} \\mathit{Sp} - {\\left(\\mathit{Cw}^{2} + \\mathit{Sw}^{2}\\right)} \\mathit{Cp} r\\right)} \\mathit{Ly} - {\\left(\\mathit{Draz} + \\mathit{Dt} + \\mathit{Lz} - \\mathit{Qz}\\right)} \\mathit{Sw} + \\mathit{Dray}$"
      ],
      "text/plain": [
       "<IPython.core.display.Math object>"
      ]
     },
     "metadata": {},
     "output_type": "display_data"
    },
    {
     "data": {
      "text/latex": [
       "$\\displaystyle \\mathit{Pz} ~=~ {\\left(\\mathit{Cw}^{2} + \\mathit{Sw}^{2}\\right)} {\\left(\\mathit{Dt} + \\mathit{Lz}\\right)} s + {\\left(\\mathit{Cw}^{2} + \\mathit{Sw}^{2}\\right)} \\mathit{Ly} t - \\mathit{Cw} {\\left(\\mathit{Draz} + \\mathit{Dt} + \\mathit{Lz} - \\mathit{Qz}\\right)} + {\\left(\\mathit{Dray} + \\mathit{Dy} + \\mathit{Ly} - \\mathit{Qy}\\right)} \\mathit{Sw} + \\mathit{Draz}$"
      ],
      "text/plain": [
       "<IPython.core.display.Math object>"
      ]
     },
     "metadata": {},
     "output_type": "display_data"
    }
   ],
   "source": [
    "# Extract the joint-position vector P (INVERSE KINEMATICS) from\n",
    "# the fourth column of the inverse transformation matrix\n",
    "Px=pAq[0][3]\n",
    "Py=pAq[1][3]\n",
    "Pz=pAq[2][3]\n",
    "\n",
    "display(Math(latex(P_[0][0]) + rf'~=~'  + latex(Px)))\n",
    "display(Math(latex(P_[1][0]) + rf'~=~'  + latex(Py)))\n",
    "display(Math(latex(P_[2][0]) + rf'~=~'  + latex(Pz)))"
   ]
  },
  {
   "cell_type": "code",
   "execution_count": 34,
   "metadata": {},
   "outputs": [
    {
     "name": "stdout",
     "output_type": "stream",
     "text": [
      "TCP kinematics INVERSE\n",
      "Px =  (Cp*SvSs - Sp*t)*(Dt + Lz) + Cp*Dx - (Cp*CvSs + Sp*r)*Ly - Dy*Sp - Dx + Qx\n",
      "Py =  (Cw^2 + Sw^2)*Cp*Dy + (Cw^2 + Sw^2)*Dx*Sp - Cw*(Dray + Dy + Ly - Qy) + ((Cw^2 + Sw^2)*Sp*SvSs + (Cw^2 + Sw^2)*Cp*t)*(Dt + Lz) - ((Cw^2 + Sw^2)*CvSs*Sp - (Cw^2 + Sw^2)*Cp*r)*Ly - (Draz + Dt + Lz - Qz)*Sw + Dray\n",
      "Pz =  (Cw^2 + Sw^2)*(Dt + Lz)*s + (Cw^2 + Sw^2)*Ly*t - Cw*(Draz + Dt + Lz - Qz) + (Dray + Dy + Ly - Qy)*Sw + Draz\n"
     ]
    }
   ],
   "source": [
    "# expressions as used in gen_xyzbca_trsrn.comp\n",
    "print('TCP kinematics INVERSE')\n",
    "print('Px = ', Px)\n",
    "print('Py = ', Py)\n",
    "print('Pz = ', Pz)"
   ]
  },
  {
   "cell_type": "markdown",
   "metadata": {},
   "source": [
    "Note that $$cos²\\theta+sin²\\theta=1$$\n"
   ]
  },
  {
   "cell_type": "markdown",
   "metadata": {},
   "source": [
    "For notes on the calculation of the various variables in the kinematics component see note above."
   ]
  },
  {
   "cell_type": "markdown",
   "metadata": {},
   "source": [
    "        case 1: // ========================= TCP kinematics INVERSE \n",
    "            // in TCP we use the current positions of the spindle joints\n",
    "              Ss = sin(j[4]*TO_RAD);\n",
    "              Cs = cos(j[4]*TO_RAD);\n",
    "              Sp = sin(j[5]*TO_RAD);\n",
    "              Cp = cos(j[5]*TO_RAD);\n",
    "            CvSs = Cv*Sb;\n",
    "            SvSs = Sv*Sb;\n",
    "               r = Cb + Sv*Sv*(1-Cb);\n",
    "               s = Cb + Cv*Cv*(1-Cb);\n",
    "               t = Sv*Cv*(1-Cb);\n",
    "\n",
    "            j[0] =   (Cp*SvSs - Sp*t)*(Dt + Lz) \n",
    "                   + Cp*Dx \n",
    "                   - (Cp*CvSs + Sp*r)*Ly \n",
    "                   - Dy*Sp \n",
    "                   - Dx \n",
    "                   + Qx;\n",
    "\n",
    "            j[1] =   Cp*Dy \n",
    "                   + Dx*Sp \n",
    "                   - Cw*(Dray + Dy + Ly - Qy) \n",
    "                   + (Sp*SvSs + Cp*t)*(Dt + Lz) \n",
    "                   - (CvSs*Sp - Cp*r)*Ly \n",
    "                   - (Draz + Dt + Lz - Qz)*Sw \n",
    "                   + Dray;\n",
    "\n",
    "            j[2] =   (Dt + Lz)*s \n",
    "                   + Ly*t \n",
    "                   - Cw*(Draz + Dt + Lz - Qz) \n",
    "                   + (Dray + Dy + Ly - Qy)*Sw \n",
    "                   + Draz;\n",
    "\n",
    "            j[3] = pos->a;\n",
    "            j[4] = pos->b;\n",
    "            j[5] = pos->c;\n",
    "\n",
    "            break;\n"
   ]
  },
  {
   "cell_type": "markdown",
   "metadata": {},
   "source": [
    "This concludes the TCP kinematic\n"
   ]
  },
  {
   "cell_type": "markdown",
   "metadata": {},
   "source": [
    "-----"
   ]
  },
  {
   "cell_type": "markdown",
   "metadata": {},
   "source": [
    "# Tool Kinematic model\n",
    "Many, if not most, applications for 5-axis milling do not require TCP kinematics where all five axes are moving simultaneously but only need the work piece to be oriented at certain angles to the tool in between 'conventional' three axis (x,y,z) milling operations. In these operations the tool is not reoriented while cutting the material. This is what is called '3+2' mode.<br>\n",
    "In 3+2 mode the machine operator can use the familiar built in cycles the machine controller offers for 3d (x,y,z) use and does not necessarily require CAM/CAD software to machine a part. The ability to move the tool in a plane perpendicular to its rotational axis also allows the use of probes for job setup.<br>\n",
    "Machines with work side rotation (eg the A rotary in our example, or the 'table-rotary-tilting' examples included in LinuxCNC simulation configs) can orient the work piece to the tool by simply rotating the work to the required orientation as the tool always remains oriented along the machine z-axis. A drilling operation on such a machine will thus still only require the machine z-axis to be moved no matter how the part is oriented.  In this case no special kinematic is required.<br>\n",
    "Machines with tool side rotation like the one presented here with B and C spindle rotations however retain the directions of the unrotated machine coordinate system when moving in IDENTITY and TCP kinematics while the tool orientation changes in respect to the machine coordinate system.  A drilling operation on such a machine will require the machine to move in a complex manner that may include all three (x,y,z) axes depending on how tool is oriented.<br>\n",
    "Commercial 5-axis machine controllers offer built in functionality that allow the operator to define work plane orientation using Gcode commands like G68.2 or similar; automatically adjusting the kinematic model to the type of kinematic of the machine. To implement such a feature for our example machine using LinuxCNC we need to create another kind of kinematic model which we will call the TOOL kinematic.  \n",
    "\n"
   ]
  },
  {
   "cell_type": "markdown",
   "metadata": {},
   "source": [
    "### Forward transformation\n",
    "\n",
    "For the TOOL kinematic we start at the tool tip and follow the kinematic chain towards the work piece. Since the table rotation is not invovled in the tool orientation it will be omitted in the TOOL kinematic model.<br>\n",
    "\n",
    "Thus our forward transformation matrix $^QA_P$ is :\n",
    "\n",
    "$$^QA_P = R^T_{tc} \\cdot T_l \\cdot R^T_s \\cdot T_d \\cdot R^T_p\\ \\cdot ( T_p \\cdot T_{-d} \\cdot T_{-l})$$\n",
    "\n",
    "Note that the brackets in the above expressions are only used to highlight the different parts of the kinematic model and are not mathematically required. <br>\n",
    "$R_{tc}$ is a virtual rotation around the rotational axis of the tool. This is required because we need a way to define the orientation of the tool-x (and -y). Without this the tool-coordinate system would be 'fixed' to the spindle head orientation which we do certainly want for the tool-z orientation but not for the x,y-directions. This will be important when developing the 'Tilted Work Plane' features later.\n",
    "\n",
    "Tool-length offset is applied automatically in LinuxCNC by subtracting the tool length value stored in the tool table from the z-axis coordinate position while the joint position remains unchanged. This built in compensation also works in our custom tool kinematic because the tool coordinate system is always aligned with the rotational axis of the tool.\n",
    "\n"
   ]
  },
  {
   "cell_type": "code",
   "execution_count": 35,
   "metadata": {},
   "outputs": [],
   "source": [
    "# add c rotation of tool coordinate system\n",
    "var('Ctc','Stc')\n",
    "Rtc=matrix([[ Ctc, -Stc,   0, 0],\n",
    "           [ Stc,  Ctc,   0, 0],\n",
    "           [ 0 ,  0 ,   1, 0],\n",
    "           [ 0,   0 ,   0, 1]])"
   ]
  },
  {
   "cell_type": "code",
   "execution_count": 36,
   "metadata": {
    "scrolled": true
   },
   "outputs": [
    {
     "data": {
      "text/latex": [
       "$\\displaystyle \\left(\\begin{array}{rrrr}\n",
       "\\mathit{Ctc} & \\mathit{Stc} & 0 & 0 \\\\\n",
       "-\\mathit{Stc} & \\mathit{Ctc} & 0 & 0 \\\\\n",
       "0 & 0 & 1 & 0 \\\\\n",
       "0 & 0 & 0 & 1\n",
       "\\end{array}\\right) \\cdot \\left(\\begin{array}{rrrr}\n",
       "1 & 0 & 0 & 0 \\\\\n",
       "0 & 1 & 0 & -\\mathit{Ly} \\\\\n",
       "0 & 0 & 1 & -\\mathit{Lz} \\\\\n",
       "0 & 0 & 0 & 1\n",
       "\\end{array}\\right) \\cdot \\left(\\begin{array}{rrrr}\n",
       "\\mathit{Cs} & \\mathit{CvSs} & -\\mathit{SvSs} & 0 \\\\\n",
       "-\\mathit{CvSs} & r & t & 0 \\\\\n",
       "\\mathit{SvSs} & t & s & 0 \\\\\n",
       "0 & 0 & 0 & 1\n",
       "\\end{array}\\right) \\cdot \\left(\\begin{array}{rrrr}\n",
       "1 & 0 & 0 & -\\mathit{Dx} \\\\\n",
       "0 & 1 & 0 & -\\mathit{Dy} \\\\\n",
       "0 & 0 & 1 & 0 \\\\\n",
       "0 & 0 & 0 & 1\n",
       "\\end{array}\\right) \\cdot \\left(\\begin{array}{rrrr}\n",
       "\\mathit{Cp} & \\mathit{Sp} & 0 & 0 \\\\\n",
       "-\\mathit{Sp} & \\mathit{Cp} & 0 & 0 \\\\\n",
       "0 & 0 & 1 & 0 \\\\\n",
       "0 & 0 & 0 & 1\n",
       "\\end{array}\\right) \\cdot \\left(\\begin{array}{rrrr}\n",
       "1 & 0 & 0 & \\mathit{Px} \\\\\n",
       "0 & 1 & 0 & \\mathit{Py} \\\\\n",
       "0 & 0 & 1 & \\mathit{Pz} \\\\\n",
       "0 & 0 & 0 & 1\n",
       "\\end{array}\\right) \\cdot \\left(\\begin{array}{rrrr}\n",
       "1 & 0 & 0 & \\mathit{Dx} \\\\\n",
       "0 & 1 & 0 & \\mathit{Dy} \\\\\n",
       "0 & 0 & 1 & 0 \\\\\n",
       "0 & 0 & 0 & 1\n",
       "\\end{array}\\right) \\cdot \\left(\\begin{array}{rrrr}\n",
       "1 & 0 & 0 & 0 \\\\\n",
       "0 & 1 & 0 & \\mathit{Ly} \\\\\n",
       "0 & 0 & 1 & \\mathit{Lz} \\\\\n",
       "0 & 0 & 0 & 1\n",
       "\\end{array}\\right)$"
      ],
      "text/plain": [
       "<IPython.core.display.Math object>"
      ]
     },
     "metadata": {},
     "output_type": "display_data"
    }
   ],
   "source": [
    "display(Math(\n",
    "             latex(Rtc.transpose())+rf'\\cdot'\n",
    "            +latex(Tl)             +rf'\\cdot'\n",
    "            +latex(Rs.transpose()) +rf'\\cdot'\n",
    "            +latex(Td)             +rf'\\cdot'\n",
    "            +latex(Rp.transpose()) +rf'\\cdot'\n",
    "            +latex(Tp)             +rf'\\cdot'\n",
    "            +latex(Tnd)            +rf'\\cdot'\n",
    "            +latex(Tnl)              \n",
    "        ))       "
   ]
  },
  {
   "cell_type": "code",
   "execution_count": 37,
   "metadata": {},
   "outputs": [
    {
     "data": {
      "text/latex": [
       "$\\displaystyle ^Q A_P =~ \\left(\\begin{array}{rrrr}\n",
       "{\\left(\\mathit{Cs} \\mathit{Ctc} - \\mathit{CvSs} \\mathit{Stc}\\right)} \\mathit{Cp} - {\\left(\\mathit{Ctc} \\mathit{CvSs} + \\mathit{Stc} r\\right)} \\mathit{Sp} & {\\left(\\mathit{Ctc} \\mathit{CvSs} + \\mathit{Stc} r\\right)} \\mathit{Cp} + {\\left(\\mathit{Cs} \\mathit{Ctc} - \\mathit{CvSs} \\mathit{Stc}\\right)} \\mathit{Sp} & -\\mathit{Ctc} \\mathit{SvSs} + \\mathit{Stc} t & {\\left({\\left(\\mathit{Cs} \\mathit{Ctc} - \\mathit{CvSs} \\mathit{Stc}\\right)} \\mathit{Cp} - {\\left(\\mathit{Ctc} \\mathit{CvSs} + \\mathit{Stc} r\\right)} \\mathit{Sp}\\right)} {\\left(\\mathit{Dx} + \\mathit{Px}\\right)} - {\\left(\\mathit{Cs} \\mathit{Ctc} - \\mathit{CvSs} \\mathit{Stc}\\right)} \\mathit{Dx} + {\\left({\\left(\\mathit{Ctc} \\mathit{CvSs} + \\mathit{Stc} r\\right)} \\mathit{Cp} + {\\left(\\mathit{Cs} \\mathit{Ctc} - \\mathit{CvSs} \\mathit{Stc}\\right)} \\mathit{Sp}\\right)} {\\left(\\mathit{Dy} + \\mathit{Ly} + \\mathit{Py}\\right)} - {\\left(\\mathit{Ctc} \\mathit{CvSs} + \\mathit{Stc} r\\right)} \\mathit{Dy} - {\\left(\\mathit{Ctc} \\mathit{SvSs} - \\mathit{Stc} t\\right)} {\\left(\\mathit{Lz} + \\mathit{Pz}\\right)} - \\mathit{Ly} \\mathit{Stc} \\\\\n",
       "-{\\left(\\mathit{Ctc} \\mathit{CvSs} + \\mathit{Cs} \\mathit{Stc}\\right)} \\mathit{Cp} + {\\left(\\mathit{CvSs} \\mathit{Stc} - \\mathit{Ctc} r\\right)} \\mathit{Sp} & -{\\left(\\mathit{CvSs} \\mathit{Stc} - \\mathit{Ctc} r\\right)} \\mathit{Cp} - {\\left(\\mathit{Ctc} \\mathit{CvSs} + \\mathit{Cs} \\mathit{Stc}\\right)} \\mathit{Sp} & \\mathit{Stc} \\mathit{SvSs} + \\mathit{Ctc} t & -{\\left({\\left(\\mathit{Ctc} \\mathit{CvSs} + \\mathit{Cs} \\mathit{Stc}\\right)} \\mathit{Cp} - {\\left(\\mathit{CvSs} \\mathit{Stc} - \\mathit{Ctc} r\\right)} \\mathit{Sp}\\right)} {\\left(\\mathit{Dx} + \\mathit{Px}\\right)} + {\\left(\\mathit{Ctc} \\mathit{CvSs} + \\mathit{Cs} \\mathit{Stc}\\right)} \\mathit{Dx} - {\\left({\\left(\\mathit{CvSs} \\mathit{Stc} - \\mathit{Ctc} r\\right)} \\mathit{Cp} + {\\left(\\mathit{Ctc} \\mathit{CvSs} + \\mathit{Cs} \\mathit{Stc}\\right)} \\mathit{Sp}\\right)} {\\left(\\mathit{Dy} + \\mathit{Ly} + \\mathit{Py}\\right)} + {\\left(\\mathit{CvSs} \\mathit{Stc} - \\mathit{Ctc} r\\right)} \\mathit{Dy} - \\mathit{Ctc} \\mathit{Ly} + {\\left(\\mathit{Stc} \\mathit{SvSs} + \\mathit{Ctc} t\\right)} {\\left(\\mathit{Lz} + \\mathit{Pz}\\right)} \\\\\n",
       "\\mathit{Cp} \\mathit{SvSs} - \\mathit{Sp} t & \\mathit{Sp} \\mathit{SvSs} + \\mathit{Cp} t & s & {\\left(\\mathit{Cp} \\mathit{SvSs} - \\mathit{Sp} t\\right)} {\\left(\\mathit{Dx} + \\mathit{Px}\\right)} + {\\left(\\mathit{Sp} \\mathit{SvSs} + \\mathit{Cp} t\\right)} {\\left(\\mathit{Dy} + \\mathit{Ly} + \\mathit{Py}\\right)} - \\mathit{Dx} \\mathit{SvSs} + {\\left(\\mathit{Lz} + \\mathit{Pz}\\right)} s - \\mathit{Dy} t - \\mathit{Lz} \\\\\n",
       "0 & 0 & 0 & 1\n",
       "\\end{array}\\right)$"
      ],
      "text/plain": [
       "<IPython.core.display.Math object>"
      ]
     },
     "metadata": {},
     "output_type": "display_data"
    }
   ],
   "source": [
    "# calculate the forward kinematic \n",
    "# brackets are only used for cosmetically adjust the resulting formula\n",
    "qAp=Rtc.transpose()*(Tl)*Rs.transpose()*Td*Rp.transpose()*(Tp*Tnd*Tnl)                                                              \n",
    "display(Math(rf'^Q A_P =~'+latex(qAp)))\n"
   ]
  },
  {
   "cell_type": "code",
   "execution_count": 38,
   "metadata": {},
   "outputs": [
    {
     "data": {
      "text/latex": [
       "$\\displaystyle \\mathit{Qx} ~=~ {\\left({\\left(\\mathit{Cs} \\mathit{Ctc} - \\mathit{CvSs} \\mathit{Stc}\\right)} \\mathit{Cp} - {\\left(\\mathit{Ctc} \\mathit{CvSs} + \\mathit{Stc} r\\right)} \\mathit{Sp}\\right)} {\\left(\\mathit{Dx} + \\mathit{Px}\\right)} - {\\left(\\mathit{Cs} \\mathit{Ctc} - \\mathit{CvSs} \\mathit{Stc}\\right)} \\mathit{Dx} + {\\left({\\left(\\mathit{Ctc} \\mathit{CvSs} + \\mathit{Stc} r\\right)} \\mathit{Cp} + {\\left(\\mathit{Cs} \\mathit{Ctc} - \\mathit{CvSs} \\mathit{Stc}\\right)} \\mathit{Sp}\\right)} {\\left(\\mathit{Dy} + \\mathit{Ly} + \\mathit{Py}\\right)} - {\\left(\\mathit{Ctc} \\mathit{CvSs} + \\mathit{Stc} r\\right)} \\mathit{Dy} - {\\left(\\mathit{Ctc} \\mathit{SvSs} - \\mathit{Stc} t\\right)} {\\left(\\mathit{Lz} + \\mathit{Pz}\\right)} - \\mathit{Ly} \\mathit{Stc}$"
      ],
      "text/plain": [
       "<IPython.core.display.Math object>"
      ]
     },
     "metadata": {},
     "output_type": "display_data"
    },
    {
     "data": {
      "text/latex": [
       "$\\displaystyle \\mathit{Qy} ~=~ -{\\left({\\left(\\mathit{Ctc} \\mathit{CvSs} + \\mathit{Cs} \\mathit{Stc}\\right)} \\mathit{Cp} - {\\left(\\mathit{CvSs} \\mathit{Stc} - \\mathit{Ctc} r\\right)} \\mathit{Sp}\\right)} {\\left(\\mathit{Dx} + \\mathit{Px}\\right)} + {\\left(\\mathit{Ctc} \\mathit{CvSs} + \\mathit{Cs} \\mathit{Stc}\\right)} \\mathit{Dx} - {\\left({\\left(\\mathit{CvSs} \\mathit{Stc} - \\mathit{Ctc} r\\right)} \\mathit{Cp} + {\\left(\\mathit{Ctc} \\mathit{CvSs} + \\mathit{Cs} \\mathit{Stc}\\right)} \\mathit{Sp}\\right)} {\\left(\\mathit{Dy} + \\mathit{Ly} + \\mathit{Py}\\right)} + {\\left(\\mathit{CvSs} \\mathit{Stc} - \\mathit{Ctc} r\\right)} \\mathit{Dy} - \\mathit{Ctc} \\mathit{Ly} + {\\left(\\mathit{Stc} \\mathit{SvSs} + \\mathit{Ctc} t\\right)} {\\left(\\mathit{Lz} + \\mathit{Pz}\\right)}$"
      ],
      "text/plain": [
       "<IPython.core.display.Math object>"
      ]
     },
     "metadata": {},
     "output_type": "display_data"
    },
    {
     "data": {
      "text/latex": [
       "$\\displaystyle \\mathit{Qz} ~=~ {\\left(\\mathit{Cp} \\mathit{SvSs} - \\mathit{Sp} t\\right)} {\\left(\\mathit{Dx} + \\mathit{Px}\\right)} + {\\left(\\mathit{Sp} \\mathit{SvSs} + \\mathit{Cp} t\\right)} {\\left(\\mathit{Dy} + \\mathit{Ly} + \\mathit{Py}\\right)} - \\mathit{Dx} \\mathit{SvSs} + {\\left(\\mathit{Lz} + \\mathit{Pz}\\right)} s - \\mathit{Dy} t - \\mathit{Lz}$"
      ],
      "text/plain": [
       "<IPython.core.display.Math object>"
      ]
     },
     "metadata": {},
     "output_type": "display_data"
    }
   ],
   "source": [
    "# Extract the tool-position vector Q (FORWARD KINEMATICS) from\n",
    "# the fourth column of the forward transformation matrix\n",
    "Qx=qAp[0][3]\n",
    "Qy=qAp[1][3]\n",
    "Qz=qAp[2][3]\n",
    "\n",
    "display(Math(latex(Q_[0][0]) + rf'~=~'  + latex(Qx)))\n",
    "display(Math(latex(Q_[1][0]) + rf'~=~'  + latex(Qy)))\n",
    "display(Math(latex(Q_[2][0]) + rf'~=~'  + latex(Qz)))"
   ]
  },
  {
   "cell_type": "code",
   "execution_count": 39,
   "metadata": {},
   "outputs": [
    {
     "name": "stdout",
     "output_type": "stream",
     "text": [
      "TOOL kinematics FORWARD\n",
      "Qx =  ((Cs*Ctc - CvSs*Stc)*Cp - (Ctc*CvSs + Stc*r)*Sp)*(Dx + Px) - (Cs*Ctc - CvSs*Stc)*Dx + ((Ctc*CvSs + Stc*r)*Cp + (Cs*Ctc - CvSs*Stc)*Sp)*(Dy + Ly + Py) - (Ctc*CvSs + Stc*r)*Dy - (Ctc*SvSs - Stc*t)*(Lz + Pz) - Ly*Stc\n",
      "Qy =  -((Ctc*CvSs + Cs*Stc)*Cp - (CvSs*Stc - Ctc*r)*Sp)*(Dx + Px) + (Ctc*CvSs + Cs*Stc)*Dx - ((CvSs*Stc - Ctc*r)*Cp + (Ctc*CvSs + Cs*Stc)*Sp)*(Dy + Ly + Py) + (CvSs*Stc - Ctc*r)*Dy - Ctc*Ly + (Stc*SvSs + Ctc*t)*(Lz + Pz)\n",
      "Qz =  (Cp*SvSs - Sp*t)*(Dx + Px) + (Sp*SvSs + Cp*t)*(Dy + Ly + Py) - Dx*SvSs + (Lz + Pz)*s - Dy*t - Lz\n"
     ]
    }
   ],
   "source": [
    "# expressions as used in kinematics component\n",
    "print('TOOL kinematics FORWARD')\n",
    "print('Qx = ', Qx)\n",
    "print('Qy = ', Qy)\n",
    "print('Qz = ', Qz)"
   ]
  },
  {
   "cell_type": "markdown",
   "metadata": {},
   "source": [
    "      case 2: // ========================= TOOL kinematics FORWARD \n",
    "            // in TOOL kinematics we use the articulated joint positions from the TWP\n",
    "              Ss = sin(theta_2*TO_RAD);\n",
    "              Cs = cos(theta_2*TO_RAD);\n",
    "              Sp = sin(theta_1*TO_RAD);\n",
    "              Cp = cos(theta_1*TO_RAD);\n",
    "            CvSs = Cv*Ss;\n",
    "            SvSs = Sv*Ss;\n",
    "               r = Cs + Sv*Sv*(1-Cs);\n",
    "               s = Cs + Cv*Cv*(1-Cs);\n",
    "               t = Sv*Cv*(1-Cs);\n",
    "\n",
    "            pos->tran.x =   ((Cs*Ctc - CvSs*Stc)*Cp - (Ctc*CvSs + Stc*r)*Sp)*(Dx + Px) \n",
    "                          - (Cs*Ctc - CvSs*Stc)*Dx \n",
    "                          + ((Ctc*CvSs + Stc*r)*Cp \n",
    "                          + (Cs*Ctc - CvSs*Stc)*Sp)*(Dy + Ly + Py) \n",
    "                          - (Ctc*CvSs + Stc*r)*Dy \n",
    "                          - (Ctc*SvSs - Stc*t)*(Lz + Pz) \n",
    "                          - Ly*Stc;\n",
    "\n",
    "            pos->tran.y = - ((Ctc*CvSs + Cs*Stc)*Cp - (CvSs*Stc - Ctc*r)*Sp)*(Dx + Px) \n",
    "                          + (Ctc*CvSs + Cs*Stc)*Dx \n",
    "                          - ((CvSs*Stc - Ctc*r)*Cp \n",
    "                          + (Ctc*CvSs + Cs*Stc)*Sp)*(Dy + Ly + Py) \n",
    "                          + (CvSs*Stc - Ctc*r)*Dy \n",
    "                          - Ctc*Ly \n",
    "                          + (Stc*SvSs + Ctc*t)*(Lz + Pz);\n",
    "\n",
    "            pos->tran.z =   (Cp*SvSs - Sp*t)*(Dx + Px) \n",
    "                          + (Sp*SvSs + Cp*t)*(Dy + Ly + Py) \n",
    "                          - Dx*SvSs \n",
    "                          + (Lz + Pz)*s \n",
    "                          - Dy*t \n",
    "                          - Lz;\n",
    "\n",
    "            pos->a      = j[3];\n",
    "            pos->b      = j[4];\n",
    "            pos->c      = j[5];\n",
    "\n",
    "            break;"
   ]
  },
  {
   "cell_type": "markdown",
   "metadata": {},
   "source": [
    "---"
   ]
  },
  {
   "cell_type": "markdown",
   "metadata": {},
   "source": [
    "### Inverse transformation\n",
    "\n",
    "For the inverse kinematic we need to move from the machine coordinates to the tool coordinates starting with the inverted offset translations $(T_d \\cdot T_l )$ for the offsets we used on the input of the forward kinematic $T_{-d} \\cdot T_{-l}$:\n",
    "\n",
    "$$^QA_P = R^T_{tc} \\cdot T_l \\cdot R^T_s \\cdot T_d \\cdot R^T_p\\ \\cdot ( T_p \\cdot T_{-d} \\cdot T_{-l})$$\n",
    "\n",
    "$$^PA_Q = (T_d \\cdot T_l ) \\cdot R_p \\cdot T_{-d} \\cdot R_s \\cdot T_{-l} \\cdot R_{tc}\\cdot T_q $$\n",
    "\n",
    "Note that the brackets in the above expressions are only used to highlight the different parts of the kinematic model and are not mathematically required.  "
   ]
  },
  {
   "cell_type": "code",
   "execution_count": 40,
   "metadata": {},
   "outputs": [
    {
     "data": {
      "text/latex": [
       "$\\displaystyle ^PA_Q =~ \\left(\\begin{array}{rrrr}\n",
       "{\\left(\\mathit{Cp} \\mathit{Cs} - \\mathit{CvSs} \\mathit{Sp}\\right)} \\mathit{Ctc} - {\\left(\\mathit{Cp} \\mathit{CvSs} + \\mathit{Sp} r\\right)} \\mathit{Stc} & -{\\left(\\mathit{Cp} \\mathit{CvSs} + \\mathit{Sp} r\\right)} \\mathit{Ctc} - {\\left(\\mathit{Cp} \\mathit{Cs} - \\mathit{CvSs} \\mathit{Sp}\\right)} \\mathit{Stc} & \\mathit{Cp} \\mathit{SvSs} - \\mathit{Sp} t & \\mathit{Cp} \\mathit{Dx} - {\\left(\\mathit{Cp} \\mathit{CvSs} + \\mathit{Sp} r\\right)} \\mathit{Ly} + {\\left(\\mathit{Cp} \\mathit{SvSs} - \\mathit{Sp} t\\right)} \\mathit{Lz} + {\\left({\\left(\\mathit{Cp} \\mathit{Cs} - \\mathit{CvSs} \\mathit{Sp}\\right)} \\mathit{Ctc} - {\\left(\\mathit{Cp} \\mathit{CvSs} + \\mathit{Sp} r\\right)} \\mathit{Stc}\\right)} \\mathit{Qx} - {\\left({\\left(\\mathit{Cp} \\mathit{CvSs} + \\mathit{Sp} r\\right)} \\mathit{Ctc} + {\\left(\\mathit{Cp} \\mathit{Cs} - \\mathit{CvSs} \\mathit{Sp}\\right)} \\mathit{Stc}\\right)} \\mathit{Qy} + {\\left(\\mathit{Cp} \\mathit{SvSs} - \\mathit{Sp} t\\right)} \\mathit{Qz} - \\mathit{Dy} \\mathit{Sp} - \\mathit{Dx} \\\\\n",
       "{\\left(\\mathit{Cp} \\mathit{CvSs} + \\mathit{Cs} \\mathit{Sp}\\right)} \\mathit{Ctc} - {\\left(\\mathit{CvSs} \\mathit{Sp} - \\mathit{Cp} r\\right)} \\mathit{Stc} & -{\\left(\\mathit{CvSs} \\mathit{Sp} - \\mathit{Cp} r\\right)} \\mathit{Ctc} - {\\left(\\mathit{Cp} \\mathit{CvSs} + \\mathit{Cs} \\mathit{Sp}\\right)} \\mathit{Stc} & \\mathit{Sp} \\mathit{SvSs} + \\mathit{Cp} t & \\mathit{Cp} \\mathit{Dy} - {\\left(\\mathit{CvSs} \\mathit{Sp} - \\mathit{Cp} r\\right)} \\mathit{Ly} + {\\left(\\mathit{Sp} \\mathit{SvSs} + \\mathit{Cp} t\\right)} \\mathit{Lz} + {\\left({\\left(\\mathit{Cp} \\mathit{CvSs} + \\mathit{Cs} \\mathit{Sp}\\right)} \\mathit{Ctc} - {\\left(\\mathit{CvSs} \\mathit{Sp} - \\mathit{Cp} r\\right)} \\mathit{Stc}\\right)} \\mathit{Qx} - {\\left({\\left(\\mathit{CvSs} \\mathit{Sp} - \\mathit{Cp} r\\right)} \\mathit{Ctc} + {\\left(\\mathit{Cp} \\mathit{CvSs} + \\mathit{Cs} \\mathit{Sp}\\right)} \\mathit{Stc}\\right)} \\mathit{Qy} + {\\left(\\mathit{Sp} \\mathit{SvSs} + \\mathit{Cp} t\\right)} \\mathit{Qz} + \\mathit{Dx} \\mathit{Sp} - \\mathit{Dy} - \\mathit{Ly} \\\\\n",
       "-\\mathit{Ctc} \\mathit{SvSs} + \\mathit{Stc} t & \\mathit{Stc} \\mathit{SvSs} + \\mathit{Ctc} t & s & -{\\left(\\mathit{Ctc} \\mathit{SvSs} - \\mathit{Stc} t\\right)} \\mathit{Qx} + {\\left(\\mathit{Stc} \\mathit{SvSs} + \\mathit{Ctc} t\\right)} \\mathit{Qy} + \\mathit{Lz} s + \\mathit{Qz} s + \\mathit{Ly} t - \\mathit{Lz} \\\\\n",
       "0 & 0 & 0 & 1\n",
       "\\end{array}\\right)$"
      ],
      "text/plain": [
       "<IPython.core.display.Math object>"
      ]
     },
     "metadata": {},
     "output_type": "display_data"
    }
   ],
   "source": [
    "# calculate the inverse kinematic \n",
    "# brackets are only used for cosmetically adjust the resulting formula\n",
    "#qAp=Rtc.transpose()*(Tnl)*Rs.transpose()*Tnd*Rp.transpose()*(Tp*Td*Tl)                                                     \n",
    "pAq=(Td*Tl)*Rp*Tnd*Rs*Tnl*Rtc*Tq\n",
    "\n",
    "display(Math(rf'^PA_Q =~'+latex(pAq)))"
   ]
  },
  {
   "cell_type": "code",
   "execution_count": 41,
   "metadata": {
    "scrolled": true
   },
   "outputs": [
    {
     "data": {
      "text/latex": [
       "$\\displaystyle \\mathit{Px} ~=~ \\mathit{Cp} \\mathit{Dx} - {\\left(\\mathit{Cp} \\mathit{CvSs} + \\mathit{Sp} r\\right)} \\mathit{Ly} + {\\left(\\mathit{Cp} \\mathit{SvSs} - \\mathit{Sp} t\\right)} \\mathit{Lz} + {\\left({\\left(\\mathit{Cp} \\mathit{Cs} - \\mathit{CvSs} \\mathit{Sp}\\right)} \\mathit{Ctc} - {\\left(\\mathit{Cp} \\mathit{CvSs} + \\mathit{Sp} r\\right)} \\mathit{Stc}\\right)} \\mathit{Qx} - {\\left({\\left(\\mathit{Cp} \\mathit{CvSs} + \\mathit{Sp} r\\right)} \\mathit{Ctc} + {\\left(\\mathit{Cp} \\mathit{Cs} - \\mathit{CvSs} \\mathit{Sp}\\right)} \\mathit{Stc}\\right)} \\mathit{Qy} + {\\left(\\mathit{Cp} \\mathit{SvSs} - \\mathit{Sp} t\\right)} \\mathit{Qz} - \\mathit{Dy} \\mathit{Sp} - \\mathit{Dx}$"
      ],
      "text/plain": [
       "<IPython.core.display.Math object>"
      ]
     },
     "metadata": {},
     "output_type": "display_data"
    },
    {
     "data": {
      "text/latex": [
       "$\\displaystyle \\mathit{Py} ~=~ \\mathit{Cp} \\mathit{Dy} - {\\left(\\mathit{CvSs} \\mathit{Sp} - \\mathit{Cp} r\\right)} \\mathit{Ly} + {\\left(\\mathit{Sp} \\mathit{SvSs} + \\mathit{Cp} t\\right)} \\mathit{Lz} + {\\left({\\left(\\mathit{Cp} \\mathit{CvSs} + \\mathit{Cs} \\mathit{Sp}\\right)} \\mathit{Ctc} - {\\left(\\mathit{CvSs} \\mathit{Sp} - \\mathit{Cp} r\\right)} \\mathit{Stc}\\right)} \\mathit{Qx} - {\\left({\\left(\\mathit{CvSs} \\mathit{Sp} - \\mathit{Cp} r\\right)} \\mathit{Ctc} + {\\left(\\mathit{Cp} \\mathit{CvSs} + \\mathit{Cs} \\mathit{Sp}\\right)} \\mathit{Stc}\\right)} \\mathit{Qy} + {\\left(\\mathit{Sp} \\mathit{SvSs} + \\mathit{Cp} t\\right)} \\mathit{Qz} + \\mathit{Dx} \\mathit{Sp} - \\mathit{Dy} - \\mathit{Ly}$"
      ],
      "text/plain": [
       "<IPython.core.display.Math object>"
      ]
     },
     "metadata": {},
     "output_type": "display_data"
    },
    {
     "data": {
      "text/latex": [
       "$\\displaystyle \\mathit{Pz} ~=~ -{\\left(\\mathit{Ctc} \\mathit{SvSs} - \\mathit{Stc} t\\right)} \\mathit{Qx} + {\\left(\\mathit{Stc} \\mathit{SvSs} + \\mathit{Ctc} t\\right)} \\mathit{Qy} + \\mathit{Lz} s + \\mathit{Qz} s + \\mathit{Ly} t - \\mathit{Lz}$"
      ],
      "text/plain": [
       "<IPython.core.display.Math object>"
      ]
     },
     "metadata": {},
     "output_type": "display_data"
    }
   ],
   "source": [
    "# Extract the joint-position vector P (INVERSE KINEMATICS) from\n",
    "# the fourth column of the inverse transformation matrix\n",
    "Px=pAq[0][3]\n",
    "Py=pAq[1][3]\n",
    "Pz=pAq[2][3]\n",
    "\n",
    "display(Math(latex(P_[0][0]) + rf'~=~'  + latex(Px)))\n",
    "display(Math(latex(P_[1][0]) + rf'~=~'  + latex(Py)))\n",
    "display(Math(latex(P_[2][0]) + rf'~=~'  + latex(Pz)))\n"
   ]
  },
  {
   "cell_type": "code",
   "execution_count": 42,
   "metadata": {},
   "outputs": [
    {
     "name": "stdout",
     "output_type": "stream",
     "text": [
      "TCP kinematics INVERSE\n",
      "Px =  Cp*Dx - (Cp*CvSs + Sp*r)*Ly + (Cp*SvSs - Sp*t)*Lz + ((Cp*Cs - CvSs*Sp)*Ctc - (Cp*CvSs + Sp*r)*Stc)*Qx - ((Cp*CvSs + Sp*r)*Ctc + (Cp*Cs - CvSs*Sp)*Stc)*Qy + (Cp*SvSs - Sp*t)*Qz - Dy*Sp - Dx\n",
      "Py =  Cp*Dy - (CvSs*Sp - Cp*r)*Ly + (Sp*SvSs + Cp*t)*Lz + ((Cp*CvSs + Cs*Sp)*Ctc - (CvSs*Sp - Cp*r)*Stc)*Qx - ((CvSs*Sp - Cp*r)*Ctc + (Cp*CvSs + Cs*Sp)*Stc)*Qy + (Sp*SvSs + Cp*t)*Qz + Dx*Sp - Dy - Ly\n",
      "Pz =  -(Ctc*SvSs - Stc*t)*Qx + (Stc*SvSs + Ctc*t)*Qy + Lz*s + Qz*s + Ly*t - Lz\n"
     ]
    }
   ],
   "source": [
    "# expressions as used in the kinematics component\n",
    "print('TCP kinematics INVERSE')\n",
    "print('Px = ', Px)\n",
    "print('Py = ', Py)\n",
    "print('Pz = ', Pz)"
   ]
  },
  {
   "cell_type": "markdown",
   "metadata": {},
   "source": [
    "    case 2: // ========================= TOOL  kinematics INVERSE\n",
    "            // in TOOL kinematics we use the articulated joint positions from the TWP\n",
    "              Ss = sin(theta_2*TO_RAD);\n",
    "              Cs = cos(theta_2*TO_RAD);\n",
    "              Sp = sin(theta_1*TO_RAD);\n",
    "              Cp = cos(theta_1*TO_RAD);\n",
    "            CvSs = Cv*Ss;\n",
    "            SvSs = Sv*Ss;\n",
    "               r = Cs + Sv*Sv*(1-Cs);\n",
    "               s = Cs + Cv*Cv*(1-Cs);\n",
    "               t = Sv*Cv*(1-Cs);\n",
    "\n",
    "            j[0] =    Cp*Dx \n",
    "                    - (Cp*CvSs + Sp*r)*Ly \n",
    "                    + (Cp*SvSs - Sp*t)*Lz \n",
    "                    + ((Cp*Cs - CvSs*Sp)*Ctc \n",
    "                    - (Cp*CvSs + Sp*r)*Stc)*Qx \n",
    "                    - ((Cp*CvSs + Sp*r)*Ctc + (Cp*Cs - CvSs*Sp)*Stc)*Qy \n",
    "                    + (Cp*SvSs - Sp*t)*Qz \n",
    "                    - Dy*Sp \n",
    "                    - Dx;\n",
    "\n",
    "            j[1] =    Cp*Dy \n",
    "                    - (CvSs*Sp - Cp*r)*Ly \n",
    "                    + (Sp*SvSs + Cp*t)*Lz \n",
    "                    + ((Cp*CvSs + Cs*Sp)*Ctc - (CvSs*Sp - Cp*r)*Stc)*Qx \n",
    "                    - ((CvSs*Sp - Cp*r)*Ctc + (Cp*CvSs + Cs*Sp)*Stc)*Qy \n",
    "                    + (Sp*SvSs + Cp*t)*Qz \n",
    "                    + Dx*Sp \n",
    "                    - Dy \n",
    "                    - Ly;\n",
    "\n",
    "            j[2] =  - (Ctc*SvSs - Stc*t)*Qx \n",
    "                    + (Stc*SvSs + Ctc*t)*Qy \n",
    "                    + Lz*s \n",
    "                    + Qz*s \n",
    "                    + Ly*t \n",
    "                    - Lz;\n",
    "\n",
    "            j[3] = pos->a;\n",
    "            j[4] = pos->b;\n",
    "            j[5] = pos->c;\n",
    "\n",
    "            break;"
   ]
  },
  {
   "cell_type": "markdown",
   "metadata": {},
   "source": [
    "This completes the TOOL kinematic\n",
    "\n",
    "### Caveats of TOOL kinematics (TOOL kinematics is NOT TCP!)\n",
    "Any machine operator using TOOL kinematics should be well aware of its behavior before issuing motion commands!<br>\n",
    "It must be stressed that, while TOOL kinematics are active, any movement of a rotary joint will cause the machine to rotate the TCS  around the machine reference point. Because the magnitude of the resulting movement increases with the distance between the tool position and the machine reference point the effect may seem unpredictable to the inexperienced operator.\n",
    "Note here that it is possible to set the rotation point in TOOL kinematics in much the same way as we offset the rotation-point from machine zero in TCP kinematics. This however would further complicate work offset transformation and there seems to be no immediate benefit to it. \n"
   ]
  },
  {
   "cell_type": "markdown",
   "metadata": {},
   "source": [
    "-----"
   ]
  },
  {
   "cell_type": "markdown",
   "metadata": {},
   "source": [
    "# 'Tilted Work Plane' (TWP)\n",
    "\n",
    "Commercial 5-axis machine controllers offer built in functionality that allow the operator to define work plane orientation using Gcode commands like G68.2 or similar. With the new custom TOOL kinematic we can now explore a possible implementation of TWP in LinuxCNC.<br>\n",
    "For the purpose of this example we choose the already mentioned 'G68.2' and the associated Gcodes as used by Fanuc:<br>\n",
    "\n",
    "* G68.2 - Set custom coordinate system using five different modes\n",
    "* G68.3 - Set custom coordinate system using current tool orientation\n",
    "* G68.4 - Same as 68.2 but as an incremental reorientation of an existing TWP\n",
    "\n",
    "* G53.1 - Orient the tool to the TWP using non-TCP joint rotation \n",
    "* G53.6 - Orient the tool to the TWP using TCP joint rotation\n",
    "\n",
    "* G69 - Cancel the TWP setting\n",
    "\n",
    "The TWP feature always requires a TWP-definition (G68.x) before an orientation command (G53.x) can be issued.<br> \n",
    "G68.x commands do not cause any machine movement while G53 command will cause immediate machine movement.\n",
    "At the end of a TWP operation a G69 command is used to return to machine coordinates.<br>\n",
    "\n",
    "In this presentation we use a 'Pure Python Remap' to make the above Gcode commands available to the machine operator. As a consequence our depth of integration is quite limited in the sense that the LinuxCNC Gcode interpreter will be totally ignorant of our 'TWP'-mode."
   ]
  },
  {
   "cell_type": "markdown",
   "metadata": {},
   "source": [
    "### Implementation outline\n",
    "\n",
    "This should give a rough overview of how TWP functionality is to be achieved with a python remap:\n",
    "\n",
    "\n",
    "The idea of TWP is to give the machine operator a mechanism to define a virtual work plane that is rotated (and optionally offset) in respect to the current machine coordinate system. As mentioned above this is fairly trivial in a machine with work side rotation as its tool spindle is fixed to be aligned with the machine z-axis. In such a machine the tool coordinate system (TCS) remains in the orientation of the machine coordinate system (MCS)<br>\n",
    "In a machine with tool side rotation however the TCS rotates in respect to the MCS as the rotary joints move. The orientation of the TCS for a given joint rotation can be calculated using the rotation matrix embedded in the transformation matrix as derived above. Furthermore we can also solve for the inverse case of finding the joint positions that will orient the tool to a given orientation.\n",
    "Note here that this is very much dependent on the specific kinematic of the machine at hand and will require careful analysis of the kinematic model to find any ambiguities in the solution as some specific tool orientations might be achieved in multiple joint positions. \n",
    "\n",
    "So to define the TWP means to define a target TCS in respect to the MCS and for this the use of a transformation matrix is well suited as it contains the rotation as well as the (optional) translation. \n",
    "\n",
    "\n",
    "### Step 1: Definition of the TWP\n",
    "The TWP is defined by a rotation (I,J,K) and optional offset (X,Y,Z) of the TCS in respect to the MCS. The optional offset is calulated from the current work offset position at the time when the G68.2 or G68.3 command is issued. \n",
    "\n",
    "The operator can choose from different methods to define the rotation of the custom work plane:\n",
    "\n",
    "*  G68.2 ... P0 ... - 'True Euler'-angles (this is the default if the P word is omitted)\n",
    "\n",
    "*  G68.2 ...  P1 ... - 'Pitch-Roll-Yaw'-angles\n",
    "\n",
    "*  G68.2 ...  P2 ... - 3 points in the plane (3 points define two vectors)\n",
    "\n",
    "*  G68.2 ...  P3 ... - 2 vectors (tool-x and tool-z)\n",
    "\n",
    "*  G68.2 ...  P4 ... - projected angles (A around machine-x, B around machine-y)\n",
    "\n",
    "For the above methods we create the transformation matrix either by using euler-rotations of the 4x4 identity matrix or by the vector information passed by the command, using the cross product to calculate the y-vector. For the projected angles we use basic trigonometry to calculate the vector components.\n",
    "These calculations are independent from the specific machine kinematics.\n",
    "\n",
    "*  G68.3 ...... - define TWP perpendicular to the current tool orientation \n",
    "\n",
    "Here we need to use the specific machine kinematic model to calculate the transformation matrix of the current TCS. \n",
    "\n",
    "*  G68.4 ...... - same as G68.2 but relative to the current TWP\n",
    "\n",
    "Here we need to multiply the current TWP transformation matrix with the one built from the command words.\n",
    "\n",
    "*  G69 - cancel TWP\n",
    "\n",
    "Here we reset the TWP transformation matrix to the 4x4 identity matrix (ie no rotation, no translation).\n",
    "\n",
    "Note that, contrary to some other controllers, moves commanded between G68.x and G53.x will be in the MCS.\n",
    "\n",
    "### Step 2: Orientation of the tool to the TWP\n",
    "Once the TWP has been defined the machine spindle can be oriented by moving the rotary joints to the appropriate positions.  \n",
    "\n",
    "The operator can choose whether the rotation is done in IDENTITY kinematics (only the rotary joints move) or in TCP kinematics where all joints may move to keep the tool center point in position:\n",
    "\n",
    "*  G53.1 - orient the tool to the TWP without using TCP\n",
    "\n",
    "*  G53.6 - orient the tool to the TWP with using TCP\n",
    "\n",
    "### Handling work offsets when switching to TWP\n",
    "The TWP is defined relative to the work offset (eg G54) active when issuing a G62.x command. With the execution of the following G53.x command and the reorientation of the spindle the kinematic is switched to the TOOL kinematics and the coordinate position in the DRO will then reflect the coordinate position in the rotated TCS. If the work offset values were to be used without adjusting for the kinematic switch then the physical position of the work offset would be rotated out of place and the reference to the work coordinate system (WCS) would be lost. So in order to find the reference on the work piece in the TCS we need to use the TWP transformation matrix to transform the work offset values set in WCS to the new TCS.<br>\n",
    "Note that the original work offset will have to be restored when the TWP is canceled with a G69 command.<br>\n",
    "\n",
    "\n",
    "### Handling the optional TWP offsets when switching to TWP\n",
    "Since the optional offset of the origin of the TWP are to be applied before rotating the TWP we will need to either add these offsets to the current WCS before transforming the WCS or transform the WCS and the TWP offsets separatly and add them after."
   ]
  },
  {
   "cell_type": "markdown",
   "metadata": {},
   "source": [
    "---"
   ]
  },
  {
   "cell_type": "markdown",
   "metadata": {},
   "source": [
    "## Calculating the spindle rotary joint positions for a given tool-orientation vector\n",
    "\n",
    "\n",
    "The transformation matrix we derived for the inverse tool kinematic contains a rotation matrix that describes the rotation of the unit vectors of the machine coordinate system (MCS)\n",
    "\n",
    "\n",
    "\\begin{equation}\n",
    "U ~=~\n",
    "\\left(\\begin{array}{rrrr}\n",
    "  1, 0, 0 \\\\\n",
    "  0, 1, 0 \\\\\n",
    "  0, 0, 1 \\\\\n",
    "\\end{array}\\right)\n",
    "~\n",
    "Unitvectors~of~the~MCS\n",
    "\\end{equation}\n",
    "\n",
    "to the tool coordinate system (TCS).\n",
    "\n",
    "\n",
    "\\begin{equation}\n",
    "K ~=~\n",
    "\\left(\\begin{array}{rrrr}\n",
    "  Kx_x, Ky_x, Kz_x \\\\\n",
    "  Kx_y, Ky_y, Kz_y \\\\\n",
    "  Kx_z, Ky_z, Kz_z \\\\\n",
    "\\end{array}\\right)\n",
    "~\n",
    "Toolvector\n",
    "\\end{equation}\n",
    "\n",
    "To orient the tool perpendicular to the TWP requested by the user we need to find the angles of the spindle rotary joints so that the resulting tool-z vector matches the twp-z vector.\n",
    "\n",
    "First we extract the tool-z vector from the third column of the transformation matrix in the inverse tool kinematic"
   ]
  },
  {
   "cell_type": "code",
   "execution_count": 43,
   "metadata": {},
   "outputs": [],
   "source": [
    "# Tool-z orientation vector K \n",
    "var('Kz_x','Kz_y','Kz_z')\n",
    "Kz_=matrix([[Kz_x],\n",
    "          [Kz_y],\n",
    "          [Kz_z],\n",
    "          [1]])\n",
    "# Tool-x orientation vector J \n",
    "var('Kx_x','Kx_y','Kx_z')\n",
    "Kx_=matrix([[Kx_x],\n",
    "          [Kx_y],\n",
    "          [Kx_z],\n",
    "          [1]])"
   ]
  },
  {
   "cell_type": "code",
   "execution_count": 44,
   "metadata": {},
   "outputs": [
    {
     "data": {
      "text/latex": [
       "$\\displaystyle \\mathit{Kz}_{x} ~=~ \\mathit{Cp} \\mathit{SvSs} - \\mathit{Sp} t$"
      ],
      "text/plain": [
       "<IPython.core.display.Math object>"
      ]
     },
     "metadata": {},
     "output_type": "display_data"
    },
    {
     "data": {
      "text/latex": [
       "$\\displaystyle \\mathit{Kz}_{y} ~=~ \\mathit{Sp} \\mathit{SvSs} + \\mathit{Cp} t$"
      ],
      "text/plain": [
       "<IPython.core.display.Math object>"
      ]
     },
     "metadata": {},
     "output_type": "display_data"
    },
    {
     "data": {
      "text/latex": [
       "$\\displaystyle \\mathit{Kz}_{z} ~=~ s$"
      ],
      "text/plain": [
       "<IPython.core.display.Math object>"
      ]
     },
     "metadata": {},
     "output_type": "display_data"
    }
   ],
   "source": [
    "# Extract the tool-z orientation vector from\n",
    "# the third column of the inverse transformation matrix\n",
    "Kx=pAq[0][2]\n",
    "Ky=pAq[1][2]\n",
    "Kz=pAq[2][2]\n",
    "\n",
    "display(Math(latex(Kz_[0][0]) + rf'~=~'  + latex(Kx)))\n",
    "display(Math(latex(Kz_[1][0]) + rf'~=~'  + latex(Ky)))\n",
    "display(Math(latex(Kz_[2][0]) + rf'~=~'  + latex(Kz)))"
   ]
  },
  {
   "cell_type": "markdown",
   "metadata": {},
   "source": [
    "Taking our substitution in $R_b$ into account:\n",
    "\n",
    "\n",
    "$$ C_s + S²_\\nu(1-C_s)~=~ r   ~~~~~~~~  C_s + C²_\\nu(1-C_s) ~=~ s ~~~~~~~~  S_vC_v(1-C_s) ~=~ t  $$ \n",
    "\n",
    "We get\n",
    "$$ Kz_z ~=~ C_s + C²_\\nu(1-C_s) $$\n",
    "\n",
    "Solving for angle of secondary joint \n",
    "\n",
    "$$ Kz_z ~=~ C_s + C²_\\nu - C_sC²_\\nu $$\n",
    "\n",
    "$$ Kz_z - C²_\\nu ~=~ C_s - C_sC²_\\nu $$\n",
    "\n",
    "$$ Kz_z - C²_\\nu ~=~ C_s(1 - C²_\\nu) $$\n",
    "\n",
    "$$ C_s ~=~  {Kz_z - C²_\\nu \\over 1 - C²_\\nu} $$\n",
    "\n",
    "$$ \\theta_S ~=~acos{Kz_z - C²_\\nu \\over 1 - C²_\\nu} $$\n",
    "\n",
    "\n",
    "Then solving $$ Kz_y= S_pS_{\\nu}S_s+C_pt$$  \n",
    "\n",
    "for  $C_p$  we get\n",
    "\n",
    "$$C_p = {{Kz_y - S_pS_{\\nu}S_s}\\over{t}}$$\n",
    "\n",
    "Using this result in \n",
    "\n",
    "$$Kz_x = C_pS_{\\nu}S_s - S_pt$$ \n",
    "\n",
    "we get\n",
    "\n",
    "$$ Kz_x = {{Kz_y - S_pS_{\\nu}S_s}\\over{t}} S_{\\nu}S_s - S_pt $$\n",
    "\n",
    "Here we substitute\n",
    "$$p = S_{\\nu}S_s$$\n",
    "\n",
    "and thus\n",
    "$$ Kz_x = {{Kz_y - S_pp}\\over{t}}p - S_pt $$\n",
    "\n",
    "which is\n",
    "$$ Kz_x = {{pKz_y - p²S_p - t²S_p}\\over{t}} $$\n",
    "\n",
    "and thus\n",
    "$$ tKz_x - pKz_y = S_p(-(t² + p²)) $$\n",
    "\n",
    "for the angle of primary joint:\n",
    "$$ \\theta_P = {asin({tKz_x - pKz_y\\over{-(t² + p²)}})} $$\n",
    "\n",
    "\n",
    "and finally\n",
    "$$ \\theta_P = {asin({pKz_y - tKz_x\\over{t² + p²}})} $$\n",
    "\n",
    "\n",
    "\n"
   ]
  },
  {
   "cell_type": "markdown",
   "metadata": {},
   "source": [
    "---"
   ]
  },
  {
   "cell_type": "markdown",
   "metadata": {},
   "source": [
    "## Calculating the angle $\\theta_{tc}$\n",
    "\n",
    "To set the direction of the tool-x and thus tool-y orientation we added a virtual rotation around the tool-z vector to our TOOL kinematic model. Without this we would not be able to define the orientation of, say, a rectangluar pocket in the TWP plane requested by the user, instead the orientation would simply follow the rotation of the x-unit-vector of the machine coordinate system as the spindle rotary assembly orients the tool to the TWP.\n",
    "\n",
    "Our virtual rotation $R_{tc}$ is at the start of our kinematic chain and comes as an additional rotation to the rotations of the spindle rotary assembly (ie $R_s$ and $R_p$). In order to rotate the tool-x vector to a given orientation in the TWP plane we will first need to calculate the orientation of the tool-x vector that results from orienting the spindle to the requested TWP plane and then calculate the value for $\\theta_{tc}$ required to rotate the tool-x vector to the requested orientation. \n",
    "\n",
    "As shown above, the rotation of the x-tool vector is precisely described in the first column of the transformation matrix in the inverse TOOL kinematic. Setting our correctional rotation $\\theta_{tc} = 0$ and using the joint angles $\\theta_S, \\theta_P$ calculated above to orient the tool to the requestd TWP the orientation of the tool-x vector can thus be calculated:\n"
   ]
  },
  {
   "cell_type": "code",
   "execution_count": 45,
   "metadata": {},
   "outputs": [
    {
     "data": {
      "text/latex": [
       "$\\displaystyle \\mathit{Kx}_{x} ~=~ {\\left(\\mathit{Cp} \\mathit{Cs} - \\mathit{CvSs} \\mathit{Sp}\\right)} \\mathit{Ctc} - {\\left(\\mathit{Cp} \\mathit{CvSs} + \\mathit{Sp} r\\right)} \\mathit{Stc}$"
      ],
      "text/plain": [
       "<IPython.core.display.Math object>"
      ]
     },
     "metadata": {},
     "output_type": "display_data"
    },
    {
     "data": {
      "text/latex": [
       "$\\displaystyle \\mathit{Kx}_{y} ~=~ {\\left(\\mathit{Cp} \\mathit{CvSs} + \\mathit{Cs} \\mathit{Sp}\\right)} \\mathit{Ctc} - {\\left(\\mathit{CvSs} \\mathit{Sp} - \\mathit{Cp} r\\right)} \\mathit{Stc}$"
      ],
      "text/plain": [
       "<IPython.core.display.Math object>"
      ]
     },
     "metadata": {},
     "output_type": "display_data"
    },
    {
     "data": {
      "text/latex": [
       "$\\displaystyle \\mathit{Kx}_{z} ~=~ -\\mathit{Ctc} \\mathit{SvSs} + \\mathit{Stc} t$"
      ],
      "text/plain": [
       "<IPython.core.display.Math object>"
      ]
     },
     "metadata": {},
     "output_type": "display_data"
    }
   ],
   "source": [
    "# Extract the the tool-x orientation vector from\n",
    "# the first column of the inverse transformation matrix\n",
    "\n",
    "Kx_x=pAq[0][0]\n",
    "Kx_y=pAq[1][0]\n",
    "Kx_z=pAq[2][0]\n",
    "\n",
    "display(Math(latex(Kx_[0][0]) + rf'~=~'  + latex(Kx_x)))\n",
    "display(Math(latex(Kx_[1][0]) + rf'~=~'  + latex(Kx_y)))\n",
    "display(Math(latex(Kx_[2][0]) + rf'~=~'  + latex(Kx_z)))"
   ]
  },
  {
   "cell_type": "markdown",
   "metadata": {},
   "source": [
    "### Orient the tool-x vector to lie in a plane parallel to the XY-plane of the machine coordinate system. \n",
    "\n",
    "\n",
    "Since the tool-x vector, should lie in the xy-plane of the of the MCS the z-component of the tool-x vector will need to be equal to zero. Hence we extract the z-component from the tool-x vector and equal that to zero.\n",
    "Then we can solve this equation for $\\theta_{tc}$ which is the only undefined variable left."
   ]
  },
  {
   "cell_type": "markdown",
   "metadata": {},
   "source": [
    "\n",
    "\n",
    "Whis is\n",
    "\n",
    "$$ -C_{tc} S_{\\nu} S_s + tS_{tc} ~=~ 0$$\n",
    "\n",
    "or\n",
    "\n",
    "$$ C_{tc} S_{\\nu} S_s ~=~ tS_{tc} $$\n",
    "\n",
    "We solve for the angle $\\theta_{tc}$\n",
    "\n",
    "$$ {{S_{\\nu} S_s}\\over{t}} ~=~  {S_{tc}\\over C_{tc}} ~=~  {tan(\\theta_{tc})} $$\n",
    "\n",
    "Resubstitution $$ S_\\nu C_\\nu(1-C_s) ~=~ t$$\n",
    "\n",
    "is:\n",
    "\n",
    "\n",
    "$$ \\theta_{tc} = atan{S_\\nu S_s \\over  {S_\\nu C_\\nu(1-C_s)}} $$\n",
    "\n"
   ]
  },
  {
   "cell_type": "markdown",
   "metadata": {},
   "source": [
    "### Orient the tool-x vector to a given vector \n",
    "\n",
    "Using the G62.2 commands the operator can request the tool-x orientation in form of a vector given as a command argument:\n",
    "\n",
    "\n",
    "\\begin{equation}\n",
    "\\vec L ~=~\n",
    "\\left(\\begin{array}{rrrr}\n",
    "  Lx_x \\\\\n",
    "  Lx_y \\\\\n",
    "  Lx_z \n",
    "\\end{array}\\right)\n",
    "~\n",
    "Tool-X-vector~requested\n",
    "\\end{equation}\n",
    "\n",
    "To find the required value for $\\theta_{tc}$ we first calculate the tool-x orientation using the formulas extracted above. Setting $\\theta_{tc} = 0$ and using the joint angles $\\theta_{A}, \\theta_{B}$ calculated above to orient the tool to the requestd TWP we get the, as yet uncorrected, tool-x vector:\n",
    "\n",
    "\n",
    "\\begin{equation}\n",
    "\\vec K ~=~\n",
    "\\left(\\begin{array}{rrrr}\n",
    "  Kx_x \\\\\n",
    "  Kx_y \\\\\n",
    "  Kx_z \n",
    "\\end{array}\\right)\n",
    "~\n",
    "Tool-X-vector~uncorrected\n",
    "\\end{equation}\n",
    "\n",
    "The angle between the two vectors can be calculated using the dot product\n",
    "\n",
    "$$ \\theta_{tc}~ = ~acos{\\vec L ~\\cdot ~ \\vec K \\over {|\\vec L||\\vec K|}} $$\n",
    "\n",
    "since both our vectors are unit vectors this reduces to \n",
    "\n",
    "$$ \\theta_{tc}~ = ~acos(\\vec L ~\\cdot ~ \\vec K) $$\n"
   ]
  },
  {
   "cell_type": "code",
   "execution_count": null,
   "metadata": {},
   "outputs": [],
   "source": []
  },
  {
   "cell_type": "code",
   "execution_count": null,
   "metadata": {},
   "outputs": [],
   "source": []
  }
 ],
 "metadata": {
  "authors": [
   {
    "name": "David Mueller"
   }
  ],
  "celltoolbar": "Raw Cell Format",
  "hide_input": false,
  "kernelspec": {
   "display_name": "SageMath 9.5",
   "language": "sage",
   "name": "sagemath"
  },
  "language_info": {
   "codemirror_mode": {
    "name": "ipython",
    "version": 3
   },
   "file_extension": ".py",
   "mimetype": "text/x-python",
   "name": "python",
   "nbconvert_exporter": "python",
   "pygments_lexer": "ipython3",
   "version": "3.10.12"
  },
  "title": "XYZAB_TDR kinematics for LinuxCNC"
 },
 "nbformat": 4,
 "nbformat_minor": 4
}
